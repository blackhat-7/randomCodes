{
 "metadata": {
  "language_info": {
   "codemirror_mode": {
    "name": "ipython",
    "version": 3
   },
   "file_extension": ".py",
   "mimetype": "text/x-python",
   "name": "python",
   "nbconvert_exporter": "python",
   "pygments_lexer": "ipython3",
   "version": "3.9.2"
  },
  "orig_nbformat": 2,
  "kernelspec": {
   "name": "python392jvsc74a57bd0a5a88d31acc47f956c828e2255bf08f2d8bdbaaf6eaf4e79e87d006fbb09c0aa",
   "display_name": "Python 3.9.2 64-bit ('psosm': conda)"
  }
 },
 "nbformat": 4,
 "nbformat_minor": 2,
 "cells": [
  {
   "cell_type": "code",
   "execution_count": 6,
   "metadata": {},
   "outputs": [],
   "source": [
    "import pandas as pd\n",
    "import re"
   ]
  },
  {
   "cell_type": "code",
   "execution_count": 7,
   "metadata": {},
   "outputs": [
    {
     "output_type": "execute_result",
     "data": {
      "text/plain": [
       "               region  total_cases  total_deaths  total_recovered  \\\n",
       "0               World    158092431     3291489.0        136403614   \n",
       "1                 USA     33423238      594981.0         26325307   \n",
       "2               India     22271530      242029.0         18290133   \n",
       "3              Brazil     15087360      419393.0         13640478   \n",
       "4              France      5747214      106101.0          4817288   \n",
       "..                ...          ...           ...              ...   \n",
       "218           Vanuatu            4           1.0                3   \n",
       "219  Marshall Islands            4           NaN                4   \n",
       "220             Samoa            3           NaN                2   \n",
       "221      Saint Helena            2           NaN                2   \n",
       "222        Micronesia            1           NaN                1   \n",
       "\n",
       "     active_cases  total_cases/1M_population  deaths/1M_population  \\\n",
       "0        18397328                    20282.0                4223.0   \n",
       "1         6502950                   100476.0                1789.0   \n",
       "2         3739368                    16005.0                 174.0   \n",
       "3         1027489                    70554.0                1961.0   \n",
       "4          823825                    87883.0                1622.0   \n",
       "..            ...                        ...                   ...   \n",
       "218             0                       13.0                   3.0   \n",
       "219             0                       67.0                   NaN   \n",
       "220             1                       15.0                   NaN   \n",
       "221             0                      328.0                   NaN   \n",
       "222             0                        9.0                   NaN   \n",
       "\n",
       "     total_tests  tests/1M_population    population  \n",
       "0            NaN                  NaN           NaN  \n",
       "1    456065435.0            1371013.0  3.326485e+08  \n",
       "2    300410043.0             215890.0  1.391494e+09  \n",
       "3     46616516.0             217997.0  2.138401e+08  \n",
       "4     78205751.0            1195877.0  6.539612e+07  \n",
       "..           ...                  ...           ...  \n",
       "218      23000.0              73437.0  3.131930e+05  \n",
       "219          NaN                  NaN  5.952900e+04  \n",
       "220          NaN                  NaN  1.995320e+05  \n",
       "221          NaN                  NaN  6.092000e+03  \n",
       "222          NaN                  NaN  1.160440e+05  \n",
       "\n",
       "[223 rows x 10 columns]"
      ],
      "text/html": "<div>\n<style scoped>\n    .dataframe tbody tr th:only-of-type {\n        vertical-align: middle;\n    }\n\n    .dataframe tbody tr th {\n        vertical-align: top;\n    }\n\n    .dataframe thead th {\n        text-align: right;\n    }\n</style>\n<table border=\"1\" class=\"dataframe\">\n  <thead>\n    <tr style=\"text-align: right;\">\n      <th></th>\n      <th>region</th>\n      <th>total_cases</th>\n      <th>total_deaths</th>\n      <th>total_recovered</th>\n      <th>active_cases</th>\n      <th>total_cases/1M_population</th>\n      <th>deaths/1M_population</th>\n      <th>total_tests</th>\n      <th>tests/1M_population</th>\n      <th>population</th>\n    </tr>\n  </thead>\n  <tbody>\n    <tr>\n      <th>0</th>\n      <td>World</td>\n      <td>158092431</td>\n      <td>3291489.0</td>\n      <td>136403614</td>\n      <td>18397328</td>\n      <td>20282.0</td>\n      <td>4223.0</td>\n      <td>NaN</td>\n      <td>NaN</td>\n      <td>NaN</td>\n    </tr>\n    <tr>\n      <th>1</th>\n      <td>USA</td>\n      <td>33423238</td>\n      <td>594981.0</td>\n      <td>26325307</td>\n      <td>6502950</td>\n      <td>100476.0</td>\n      <td>1789.0</td>\n      <td>456065435.0</td>\n      <td>1371013.0</td>\n      <td>3.326485e+08</td>\n    </tr>\n    <tr>\n      <th>2</th>\n      <td>India</td>\n      <td>22271530</td>\n      <td>242029.0</td>\n      <td>18290133</td>\n      <td>3739368</td>\n      <td>16005.0</td>\n      <td>174.0</td>\n      <td>300410043.0</td>\n      <td>215890.0</td>\n      <td>1.391494e+09</td>\n    </tr>\n    <tr>\n      <th>3</th>\n      <td>Brazil</td>\n      <td>15087360</td>\n      <td>419393.0</td>\n      <td>13640478</td>\n      <td>1027489</td>\n      <td>70554.0</td>\n      <td>1961.0</td>\n      <td>46616516.0</td>\n      <td>217997.0</td>\n      <td>2.138401e+08</td>\n    </tr>\n    <tr>\n      <th>4</th>\n      <td>France</td>\n      <td>5747214</td>\n      <td>106101.0</td>\n      <td>4817288</td>\n      <td>823825</td>\n      <td>87883.0</td>\n      <td>1622.0</td>\n      <td>78205751.0</td>\n      <td>1195877.0</td>\n      <td>6.539612e+07</td>\n    </tr>\n    <tr>\n      <th>...</th>\n      <td>...</td>\n      <td>...</td>\n      <td>...</td>\n      <td>...</td>\n      <td>...</td>\n      <td>...</td>\n      <td>...</td>\n      <td>...</td>\n      <td>...</td>\n      <td>...</td>\n    </tr>\n    <tr>\n      <th>218</th>\n      <td>Vanuatu</td>\n      <td>4</td>\n      <td>1.0</td>\n      <td>3</td>\n      <td>0</td>\n      <td>13.0</td>\n      <td>3.0</td>\n      <td>23000.0</td>\n      <td>73437.0</td>\n      <td>3.131930e+05</td>\n    </tr>\n    <tr>\n      <th>219</th>\n      <td>Marshall Islands</td>\n      <td>4</td>\n      <td>NaN</td>\n      <td>4</td>\n      <td>0</td>\n      <td>67.0</td>\n      <td>NaN</td>\n      <td>NaN</td>\n      <td>NaN</td>\n      <td>5.952900e+04</td>\n    </tr>\n    <tr>\n      <th>220</th>\n      <td>Samoa</td>\n      <td>3</td>\n      <td>NaN</td>\n      <td>2</td>\n      <td>1</td>\n      <td>15.0</td>\n      <td>NaN</td>\n      <td>NaN</td>\n      <td>NaN</td>\n      <td>1.995320e+05</td>\n    </tr>\n    <tr>\n      <th>221</th>\n      <td>Saint Helena</td>\n      <td>2</td>\n      <td>NaN</td>\n      <td>2</td>\n      <td>0</td>\n      <td>328.0</td>\n      <td>NaN</td>\n      <td>NaN</td>\n      <td>NaN</td>\n      <td>6.092000e+03</td>\n    </tr>\n    <tr>\n      <th>222</th>\n      <td>Micronesia</td>\n      <td>1</td>\n      <td>NaN</td>\n      <td>1</td>\n      <td>0</td>\n      <td>9.0</td>\n      <td>NaN</td>\n      <td>NaN</td>\n      <td>NaN</td>\n      <td>1.160440e+05</td>\n    </tr>\n  </tbody>\n</table>\n<p>223 rows × 10 columns</p>\n</div>"
     },
     "metadata": {},
     "execution_count": 7
    }
   ],
   "source": [
    "df = pd.read_csv('covid19_data.csv')\n",
    "df"
   ]
  },
  {
   "cell_type": "code",
   "execution_count": 10,
   "metadata": {},
   "outputs": [
    {
     "output_type": "execute_result",
     "data": {
      "text/plain": [
       "region                        0\n",
       "total_cases                   0\n",
       "total_deaths                 15\n",
       "total_recovered               0\n",
       "active_cases                  0\n",
       "total_cases/1M_population     2\n",
       "deaths/1M_population         17\n",
       "total_tests                  13\n",
       "tests/1M_population          13\n",
       "population                    3\n",
       "dtype: int64"
      ]
     },
     "metadata": {},
     "execution_count": 10
    }
   ],
   "source": [
    "df.isnull().sum()"
   ]
  },
  {
   "cell_type": "code",
   "execution_count": null,
   "metadata": {},
   "outputs": [],
   "source": []
  }
 ]
}