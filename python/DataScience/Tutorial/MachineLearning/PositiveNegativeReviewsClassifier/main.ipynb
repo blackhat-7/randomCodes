{
 "metadata": {
  "language_info": {
   "codemirror_mode": {
    "name": "ipython",
    "version": 3
   },
   "file_extension": ".py",
   "mimetype": "text/x-python",
   "name": "python",
   "nbconvert_exporter": "python",
   "pygments_lexer": "ipython3",
   "version": "3.8.5-final"
  },
  "orig_nbformat": 2,
  "kernelspec": {
   "name": "python38564bit6355121c062041e1bcd85770188ee938",
   "display_name": "Python 3.8.5 64-bit"
  }
 },
 "nbformat": 4,
 "nbformat_minor": 2,
 "cells": [
  {
   "cell_type": "markdown",
   "metadata": {},
   "source": [
    "## Import Libraries"
   ]
  },
  {
   "cell_type": "code",
   "execution_count": 230,
   "metadata": {},
   "outputs": [],
   "source": [
    "import json\n",
    "import pandas as pd\n",
    "import numpy as np\n",
    "from sklearn.model_selection import train_test_split\n",
    "import random\n",
    "from sklearn.ensemble import BaggingClassifier"
   ]
  },
  {
   "cell_type": "markdown",
   "metadata": {},
   "source": [
    "## Sentiment and Review Classes"
   ]
  },
  {
   "cell_type": "code",
   "execution_count": 231,
   "metadata": {},
   "outputs": [],
   "source": [
    "class Sentiment:\n",
    "    POSITIVE = 'POSITIVE'\n",
    "    NEUTRAL = 'NEUTRAL'\n",
    "    NEGATIVE = 'NEGATIVE'\n",
    "\n",
    "class Review:\n",
    "    def __init__(self, text, rating):\n",
    "        self.text = text\n",
    "        self.sentiment = self.get_sentiment(rating)\n",
    "    \n",
    "    def get_sentiment(self, rating):\n",
    "        if rating >= 4:\n",
    "            return Sentiment.POSITIVE\n",
    "        if rating == 3:\n",
    "            return Sentiment.NEUTRAL\n",
    "        if rating <= 2:\n",
    "            return Sentiment.NEGATIVE\n",
    "    def __repr__(self):\n",
    "        return 'Text: ' + self.text[:50] + '\\nSentiment: ' + self.sentiment + '\\n'\n",
    "\n",
    "class ReviewContainer:\n",
    "    def __init__(self, reviews):\n",
    "        self.reviews = reviews\n",
    "        self.balance_data()\n",
    "    \n",
    "    def balance_data(self):\n",
    "        positive = []\n",
    "        neutral = []\n",
    "        negative = []\n",
    "        for r in reviews:\n",
    "            if r.sentiment == Sentiment.POSITIVE:\n",
    "                positive += [r]\n",
    "            elif r.sentiment == Sentiment.NEGATIVE:\n",
    "                negative += [r]\n",
    "        min_len = min(len(positive), len(negative))\n",
    "        positive = positive[:min_len]\n",
    "        negative = negative[:min_len]\n",
    "        self.reviews = positive + negative\n",
    "        random.shuffle(self.reviews)\n",
    "    \n",
    "    def get_reviews(self):\n",
    "        return self.reviews"
   ]
  },
  {
   "cell_type": "markdown",
   "metadata": {},
   "source": [
    "## Read Data"
   ]
  },
  {
   "cell_type": "code",
   "execution_count": 232,
   "metadata": {
    "tags": []
   },
   "outputs": [
    {
     "output_type": "stream",
     "name": "stdout",
     "text": "[Text: I bought both boxed sets, books 1-5.  Really a gre\nSentiment: POSITIVE\n, Text: I enjoyed this short book. But it was way way to s\nSentiment: NEUTRAL\n]\n"
    }
   ],
   "source": [
    "file_name = 'data/Books_small_10000.json'\n",
    "reviews = []\n",
    "with open(file_name) as f:\n",
    "    for line in f:\n",
    "        rev = json.loads(line)\n",
    "        reviews += [Review(rev['reviewText'], int(rev['overall']))]\n",
    "print(reviews[:2])"
   ]
  },
  {
   "cell_type": "markdown",
   "metadata": {},
   "source": [
    "## Prep data"
   ]
  },
  {
   "cell_type": "code",
   "execution_count": 233,
   "metadata": {
    "tags": []
   },
   "outputs": [
    {
     "output_type": "stream",
     "name": "stdout",
     "text": "1288\n"
    }
   ],
   "source": [
    "r_container = ReviewContainer(reviews)\n",
    "reviews = r_container.get_reviews()\n",
    "print(len(reviews))\n",
    "train, test = train_test_split(reviews, test_size=0.33, random_state=42)\n",
    "train_x = [x.text for x in train]\n",
    "train_y = [x.sentiment for x in train]\n",
    "test_x = [x.text for x in test]\n",
    "test_y = [x.sentiment for x in test]"
   ]
  },
  {
   "cell_type": "markdown",
   "metadata": {},
   "source": [
    "## Vectorize X"
   ]
  },
  {
   "cell_type": "code",
   "execution_count": 234,
   "metadata": {},
   "outputs": [],
   "source": [
    "from sklearn.feature_extraction.text import CountVectorizer, TfidfVectorizer\n"
   ]
  },
  {
   "cell_type": "code",
   "execution_count": 235,
   "metadata": {
    "tags": []
   },
   "outputs": [],
   "source": [
    "vectorizer = TfidfVectorizer()\n",
    "train_x_vector = vectorizer.fit_transform(raw_documents=train_x)\n",
    "test_x_vector = vectorizer.transform(raw_documents=test_x)"
   ]
  },
  {
   "cell_type": "markdown",
   "metadata": {},
   "source": [
    "## Classification"
   ]
  },
  {
   "cell_type": "markdown",
   "metadata": {},
   "source": [
    "### Support Vector Machine"
   ]
  },
  {
   "cell_type": "code",
   "execution_count": 236,
   "metadata": {
    "tags": []
   },
   "outputs": [
    {
     "output_type": "execute_result",
     "data": {
      "text/plain": "SVC()"
     },
     "metadata": {},
     "execution_count": 236
    }
   ],
   "source": [
    "from sklearn.svm import SVC\n",
    "\n",
    "clf_svm = SVC()\n",
    "clf_svm.fit(train_x_vector, train_y)"
   ]
  },
  {
   "cell_type": "markdown",
   "metadata": {},
   "source": [
    "## Decision Tree"
   ]
  },
  {
   "cell_type": "code",
   "execution_count": 237,
   "metadata": {},
   "outputs": [
    {
     "output_type": "execute_result",
     "data": {
      "text/plain": "DecisionTreeClassifier()"
     },
     "metadata": {},
     "execution_count": 237
    }
   ],
   "source": [
    "from sklearn.tree import DecisionTreeClassifier\n",
    "\n",
    "clf_dct = DecisionTreeClassifier()\n",
    "clf_dct.fit(train_x_vector, train_y)"
   ]
  },
  {
   "cell_type": "markdown",
   "metadata": {},
   "source": [
    "## Naive Bayes"
   ]
  },
  {
   "cell_type": "code",
   "execution_count": 238,
   "metadata": {},
   "outputs": [
    {
     "output_type": "execute_result",
     "data": {
      "text/plain": "GaussianNB()"
     },
     "metadata": {},
     "execution_count": 238
    }
   ],
   "source": [
    "from sklearn.naive_bayes import GaussianNB\n",
    "\n",
    "clf_nb = GaussianNB()\n",
    "clf_nb.fit(train_x_vector.toarray(), train_y)"
   ]
  },
  {
   "cell_type": "markdown",
   "metadata": {},
   "source": [
    "## Logistic Regression"
   ]
  },
  {
   "cell_type": "code",
   "execution_count": 239,
   "metadata": {},
   "outputs": [
    {
     "output_type": "execute_result",
     "data": {
      "text/plain": "LogisticRegression()"
     },
     "metadata": {},
     "execution_count": 239
    }
   ],
   "source": [
    "from sklearn.linear_model import LogisticRegression\n",
    "\n",
    "clf_lr = LogisticRegression()\n",
    "clf_lr.fit(train_x_vector, train_y)"
   ]
  },
  {
   "cell_type": "markdown",
   "metadata": {},
   "source": [
    "## Evaluation"
   ]
  },
  {
   "cell_type": "code",
   "execution_count": 240,
   "metadata": {
    "tags": []
   },
   "outputs": [
    {
     "output_type": "stream",
     "name": "stdout",
     "text": "0.8380281690140845\n0.6572769953051644\n0.6596244131455399\n0.8403755868544601\n"
    }
   ],
   "source": [
    "# Mean Accuracy\n",
    "\n",
    "print(clf_svm.score(test_x_vector, test_y))\n",
    "print(clf_dct.score(test_x_vector, test_y))\n",
    "print(clf_nb.score(test_x_vector.toarray(), test_y))\n",
    "print(clf_lr.score(test_x_vector, test_y))"
   ]
  },
  {
   "cell_type": "code",
   "execution_count": 241,
   "metadata": {
    "tags": []
   },
   "outputs": [
    {
     "output_type": "stream",
     "name": "stdout",
     "text": "[0.84064665 0.         0.8353222 ]\n"
    }
   ],
   "source": [
    "# F1 Score\n",
    "\n",
    "from sklearn.metrics import f1_score\n",
    "\n",
    "print(f1_score(test_y, clf_svm.predict(test_x_vector), average=None, labels=[Sentiment.POSITIVE, Sentiment.NEUTRAL, Sentiment.NEGATIVE]))"
   ]
  },
  {
   "cell_type": "markdown",
   "metadata": {},
   "source": [
    "## Test With Your Own Input"
   ]
  },
  {
   "cell_type": "code",
   "execution_count": 242,
   "metadata": {},
   "outputs": [
    {
     "output_type": "execute_result",
     "data": {
      "text/plain": "array(['POSITIVE', 'NEGATIVE', 'NEGATIVE'], dtype='<U8')"
     },
     "metadata": {},
     "execution_count": 242
    }
   ],
   "source": [
    "my_test = ['I thoroughly enjoyed this, 5 stars', 'bad book, do not buy', 'Horrible, waste of time']\n",
    "test_vec = vectorizer.transform(my_test)\n",
    "clf_svm.predict(test_vec)"
   ]
  },
  {
   "cell_type": "markdown",
   "metadata": {},
   "source": [
    "## Grid Search"
   ]
  },
  {
   "cell_type": "code",
   "execution_count": 248,
   "metadata": {},
   "outputs": [
    {
     "output_type": "execute_result",
     "data": {
      "text/plain": "GridSearchCV(cv=5, estimator=SVC(),\n             param_grid={'C': (1, 4, 8, 16, 32), 'kernel': ('linear', 'rbf')})"
     },
     "metadata": {},
     "execution_count": 248
    }
   ],
   "source": [
    "from sklearn.model_selection import GridSearchCV\n",
    "\n",
    "parameters = {'kernel': ('linear', 'rbf'), 'C': (1,4,8,16,32)}\n",
    "\n",
    "svc = SVC()\n",
    "clf = GridSearchCV(svc, parameters, cv=5)\n",
    "clf.fit(train_x_vector, train_y)"
   ]
  },
  {
   "cell_type": "code",
   "execution_count": 249,
   "metadata": {
    "tags": []
   },
   "outputs": [
    {
     "output_type": "stream",
     "name": "stdout",
     "text": "0.823943661971831\n"
    }
   ],
   "source": [
    "print(clf.score(test_x_vector, test_y))"
   ]
  },
  {
   "cell_type": "code",
   "execution_count": 250,
   "metadata": {},
   "outputs": [
    {
     "output_type": "execute_result",
     "data": {
      "text/plain": "array(['POSITIVE', 'NEGATIVE', 'NEGATIVE', 'NEGATIVE', 'NEGATIVE',\n       'POSITIVE', 'POSITIVE'], dtype='<U8')"
     },
     "metadata": {},
     "execution_count": 250
    }
   ],
   "source": [
    "my_test = ['I thoroughly enjoyed this, 5 stars', 'bad book, do not buy', 'Horrible, waste of time', 'Never buy this book', 'Not a good book', 'It\"s not that great', \"good one\"]\n",
    "test_vec = vectorizer.transform(my_test)\n",
    "clf.predict(test_vec)"
   ]
  },
  {
   "cell_type": "markdown",
   "metadata": {},
   "source": [
    "## Saving Model"
   ]
  },
  {
   "cell_type": "code",
   "execution_count": 251,
   "metadata": {},
   "outputs": [],
   "source": [
    "import pickle\n",
    "\n",
    "with open('./models/svm_sentiment_classifier.pkl', 'wb') as f:\n",
    "    pickle.dump(clf_svm, f)"
   ]
  },
  {
   "cell_type": "markdown",
   "metadata": {},
   "source": [
    "## Loading Model"
   ]
  },
  {
   "cell_type": "code",
   "execution_count": 252,
   "metadata": {},
   "outputs": [
    {
     "output_type": "execute_result",
     "data": {
      "text/plain": "array(['POSITIVE', 'NEGATIVE', 'NEGATIVE', 'NEGATIVE', 'NEGATIVE',\n       'POSITIVE', 'POSITIVE'], dtype='<U8')"
     },
     "metadata": {},
     "execution_count": 252
    }
   ],
   "source": [
    "with open('./models/svm_sentiment_classifier.pkl', 'rb') as f:\n",
    "    loaded_clf = pickle.load(f)\n",
    "loaded_clf.predict(test_vec)"
   ]
  },
  {
   "cell_type": "code",
   "execution_count": null,
   "metadata": {},
   "outputs": [],
   "source": []
  }
 ]
}