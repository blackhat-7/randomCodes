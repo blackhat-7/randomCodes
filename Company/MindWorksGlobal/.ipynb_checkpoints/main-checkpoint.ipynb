{
 "cells": [
  {
   "cell_type": "code",
   "execution_count": 2,
   "id": "d0e6348a-3647-46a7-a6f0-1865685e3d37",
   "metadata": {},
   "outputs": [],
   "source": [
    "import selenium"
   ]
  },
  {
   "cell_type": "code",
   "execution_count": null,
   "id": "39dc5d70-c6a6-44cf-ab3b-969ae3cdfc4a",
   "metadata": {},
   "outputs": [],
   "source": [
    "# Constants and Parameters\n",
    "\n",
    "URL = 'https://www.energy.gov/listings/energy-news'\n",
    "DRIVER_PATH = ''\n",
    "SAVE_PATH = ''\n",
    "HEADLESS = False"
   ]
  },
  {
   "cell_type": "code",
   "execution_count": 3,
   "id": "65be9cf8-c269-4bb2-a165-72c5fb54fddd",
   "metadata": {},
   "outputs": [],
   "source": [
    "# Methods\n",
    "\n",
    "def init_record():\n",
    "    return {'date':None, 'headline':None, 'url':None, 'description':None}"
   ]
  }
 ],
 "metadata": {
  "kernelspec": {
   "display_name": "Python 3",
   "language": "python",
   "name": "python3"
  },
  "language_info": {
   "codemirror_mode": {
    "name": "ipython",
    "version": 3
   },
   "file_extension": ".py",
   "mimetype": "text/x-python",
   "name": "python",
   "nbconvert_exporter": "python",
   "pygments_lexer": "ipython3",
   "version": "3.9.2"
  }
 },
 "nbformat": 4,
 "nbformat_minor": 5
}
