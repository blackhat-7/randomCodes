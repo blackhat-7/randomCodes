{
 "cells": [
  {
   "cell_type": "code",
   "execution_count": 7,
   "metadata": {},
   "outputs": [],
   "source": [
    "import numpy as np"
   ]
  },
  {
   "cell_type": "code",
   "execution_count": 8,
   "metadata": {},
   "outputs": [
    {
     "output_type": "execute_result",
     "data": {
      "text/plain": "array([1, 2, 3])"
     },
     "metadata": {},
     "execution_count": 8
    }
   ],
   "source": [
    "x = [1,2,3]\n",
    "npx = np.array(x)\n",
    "npx"
   ]
  },
  {
   "cell_type": "code",
   "execution_count": 9,
   "metadata": {},
   "outputs": [
    {
     "output_type": "execute_result",
     "data": {
      "text/plain": "array([[1],\n       [2],\n       [3]])"
     },
     "metadata": {},
     "execution_count": 9
    }
   ],
   "source": [
    "npx.reshape(3,1)"
   ]
  },
  {
   "cell_type": "code",
   "execution_count": 10,
   "metadata": {},
   "outputs": [
    {
     "output_type": "execute_result",
     "data": {
      "text/plain": "array([[2, 2, 0],\n       [5, 2, 5],\n       [3, 0, 5]])"
     },
     "metadata": {},
     "execution_count": 10
    }
   ],
   "source": [
    "npx2 = np.random.randint(0, 10, (3,3))\n",
    "npx2"
   ]
  },
  {
   "cell_type": "code",
   "execution_count": 11,
   "metadata": {},
   "outputs": [
    {
     "output_type": "execute_result",
     "data": {
      "text/plain": "array([[0, 8, 1],\n       [7, 6, 8],\n       [9, 3, 8]])"
     },
     "metadata": {},
     "execution_count": 11
    }
   ],
   "source": [
    "npx3 = np.random.randint(0,10, (3,3))\n",
    "npx3"
   ]
  },
  {
   "cell_type": "code",
   "execution_count": 12,
   "metadata": {},
   "outputs": [
    {
     "output_type": "stream",
     "name": "stdout",
     "text": "[2 2 0]  +  [0 8 1]  =  [ 2 10  1]\n[5 2 5]  +  [7 6 8]  =  [12  8 13]\n[3 0 5]  +  [9 3 8]  =  [12  3 13]\n"
    }
   ],
   "source": [
    "for rowOf2, rowOf3 in zip(npx2, npx3):\n",
    "    print(rowOf2,' + ',rowOf3,' = ',rowOf2+rowOf3)"
   ]
  },
  {
   "cell_type": "code",
   "execution_count": 13,
   "metadata": {},
   "outputs": [
    {
     "output_type": "execute_result",
     "data": {
      "text/plain": "array([[2, 2],\n       [5, 2]])"
     },
     "metadata": {},
     "execution_count": 13
    }
   ],
   "source": [
    "npx2[:2,:2]"
   ]
  },
  {
   "cell_type": "code",
   "execution_count": 14,
   "metadata": {},
   "outputs": [
    {
     "output_type": "execute_result",
     "data": {
      "text/plain": "array([[2, 0],\n       [5, 5]])"
     },
     "metadata": {},
     "execution_count": 14
    }
   ],
   "source": [
    "npx2[:2,::2]"
   ]
  },
  {
   "cell_type": "code",
   "execution_count": 15,
   "metadata": {},
   "outputs": [
    {
     "output_type": "execute_result",
     "data": {
      "text/plain": "array([[ 4,  4,  0],\n       [25,  4, 25],\n       [ 9,  0, 25]], dtype=int32)"
     },
     "metadata": {},
     "execution_count": 15
    }
   ],
   "source": [
    "sqr = lambda a: a**2\n",
    "sqr(npx2)"
   ]
  },
  {
   "cell_type": "code",
   "execution_count": 16,
   "metadata": {},
   "outputs": [
    {
     "output_type": "execute_result",
     "data": {
      "text/plain": "array([[1, 1, 1, 1],\n       [1, 1, 1, 1],\n       [1, 1, 1, 1],\n       [1, 1, 1, 1]])"
     },
     "metadata": {},
     "execution_count": 16
    }
   ],
   "source": [
    "np.ones([4,4], int)"
   ]
  },
  {
   "cell_type": "code",
   "execution_count": 17,
   "metadata": {},
   "outputs": [
    {
     "output_type": "execute_result",
     "data": {
      "text/plain": "array([1, 1, 1, 2, 2, 2, 3, 3, 3])"
     },
     "metadata": {},
     "execution_count": 17
    }
   ],
   "source": [
    "np.repeat([1,2,3], 3)"
   ]
  },
  {
   "cell_type": "code",
   "execution_count": 18,
   "metadata": {},
   "outputs": [],
   "source": [
    "import math"
   ]
  },
  {
   "cell_type": "code",
   "execution_count": 19,
   "metadata": {},
   "outputs": [
    {
     "output_type": "execute_result",
     "data": {
      "text/plain": "[0, 1, 4, 9, 16, 25, 36, 49, 64, 81]"
     },
     "metadata": {},
     "execution_count": 19
    }
   ],
   "source": [
    "perfect_squares = [i for i in range(100) if math.sqrt(i) == int(math.sqrt(i))]\n",
    "perfect_squares"
   ]
  },
  {
   "cell_type": "code",
   "execution_count": 20,
   "metadata": {},
   "outputs": [
    {
     "output_type": "execute_result",
     "data": {
      "text/plain": "array([[2, 2, 0],\n       [5, 2, 5],\n       [5, 0, 5]])"
     },
     "metadata": {},
     "execution_count": 20
    }
   ],
   "source": [
    "npx2[npx2 > 2] = 5\n",
    "npx2"
   ]
  },
  {
   "cell_type": "code",
   "execution_count": 25,
   "metadata": {},
   "outputs": [
    {
     "output_type": "execute_result",
     "data": {
      "text/plain": "array([[2, 2, 0, 5, 2, 5, 5, 0, 5]])"
     },
     "metadata": {},
     "execution_count": 25
    }
   ],
   "source": [
    "npx2.reshape(1,9)"
   ]
  }
 ],
 "metadata": {
  "kernelspec": {
   "display_name": "Python 3.8.3 32-bit",
   "language": "python",
   "name": "python38332bitf2e5a67757db46da8554a0cae2a6383a"
  },
  "language_info": {
   "codemirror_mode": {
    "name": "ipython",
    "version": 3
   },
   "file_extension": ".py",
   "mimetype": "text/x-python",
   "name": "python",
   "nbconvert_exporter": "python",
   "pygments_lexer": "ipython3",
   "version": "3.8.3-final"
  }
 },
 "nbformat": 4,
 "nbformat_minor": 4
}