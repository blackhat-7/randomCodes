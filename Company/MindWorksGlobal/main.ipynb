{
 "cells": [
  {
   "cell_type": "code",
   "execution_count": 1,
   "id": "ed8467c1-b3b7-4c3f-adc8-052d136e0334",
   "metadata": {},
   "outputs": [],
   "source": [
    "import pandas as pd"
   ]
  },
  {
   "cell_type": "code",
   "execution_count": 13,
   "metadata": {},
   "outputs": [
    {
     "output_type": "execute_result",
     "data": {
      "text/plain": [
       "   article_date                                article_description  \\\n",
       "0    2021-05-04  WASHINGTON, D.C. —  Yesterday, at a roundtable...   \n",
       "1    2021-04-22  WASHINGTON, D.C. —  Secretary of Energy Jennif...   \n",
       "2    2021-05-03  WASHINGTON, D.C. —  The U.S. Department of Ene...   \n",
       "3    2021-04-30  WASHINGTON, D.C. —  The U.S. Department of Ene...   \n",
       "4    2021-04-23  There is no greater challenge facing our natio...   \n",
       "5    2021-04-29  WASHINGTON, D.C. —  The U.S. Department of Ene...   \n",
       "6    2021-04-23  WASHINGTON, D.C. —  In connection with a  Whit...   \n",
       "7    2021-05-04  WASHINGTON, D.C. —  The U.S. Department of Ene...   \n",
       "8    2021-04-22  The United States and India are launching the ...   \n",
       "9    2021-04-28  WASHINGTON, D.C. —  Secretary of Energy Jennif...   \n",
       "10   2021-04-20  WASHINGTON, D.C. —  The U.S. Department of Ene...   \n",
       "11   2021-04-23  WASHINGTON, D.C.  — The U.S. Department of Ene...   \n",
       "12   2021-04-20  WASHINGTON, D.C. —  As part of the Biden Admin...   \n",
       "13   2021-04-19  WASHINGTON, D.C. —  Secretary of Energy Jennif...   \n",
       "14   2021-04-27  WASHINGTON, D.C. —  In support of the Biden Ad...   \n",
       "15   2021-04-16  WASHINGTON, D.C. —  The U.S. Department of Ene...   \n",
       "16   2021-04-15  WASHINGTON, D.C. —  The U.S. Department of Ene...   \n",
       "17   2021-04-09  WASHINGTON, D.C. —  Secretary of Energy Jennif...   \n",
       "18   2021-04-14  WASHINGTON, D.C.—  Secretary of Energy Jennife...   \n",
       "19   2021-04-09  WASHINGTON, D.C. —  The Biden-Harris Administr...   \n",
       "\n",
       "                                        article_title  \\\n",
       "0   ICYMI: Secretary Granholm Says \"We Need Divers...   \n",
       "1   Statement by Secretary Granholm on President B...   \n",
       "2   DOE Awards $17.3 Million for Student and Facul...   \n",
       "3   DOE Announces $12 Million to Advance Geotherma...   \n",
       "4   Joint Statement on Establishing a Net-Zero Pro...   \n",
       "5   DOE Awards $19 Million for Initiatives to Prod...   \n",
       "6   DOE Announces $109.5 Million to Support Jobs a...   \n",
       "7   DOE Launches Initiatives to Accelerate Solar D...   \n",
       "8   U.S.-India Joint Statement on Launching the U....   \n",
       "9   Statement by Secretary Granholm on President B...   \n",
       "10  DOE to Support 11 Remote and Island Communitie...   \n",
       "11  DOE Launches International Clean Energy Initia...   \n",
       "12  Biden Administration Takes Bold Action to Prot...   \n",
       "13  Secretary Granholm Announces Winners of Solar ...   \n",
       "14  DOE Announces Up to $8.25 Billion in Loans to ...   \n",
       "15  DOE Announces Notice of Sale of Crude Oil from...   \n",
       "16  DOE Announces $162 Million to Decarbonize Cars...   \n",
       "17  Statement by Secretary Granholm on President B...   \n",
       "18  Statement by Secretary Granholm on President B...   \n",
       "19  Statement by Secretary Granholm on the Preside...   \n",
       "\n",
       "                                          article_url  \n",
       "0   https://www.energy.gov/articles/icymi-secretar...  \n",
       "1   https://www.energy.gov/articles/statement-secr...  \n",
       "2   https://www.energy.gov/articles/doe-awards-173...  \n",
       "3   https://www.energy.gov/articles/doe-announces-...  \n",
       "4   https://www.energy.gov/articles/joint-statemen...  \n",
       "5   https://www.energy.gov/articles/doe-awards-19-...  \n",
       "6   https://www.energy.gov/articles/doe-announces-...  \n",
       "7   https://www.energy.gov/articles/doe-launches-i...  \n",
       "8   https://www.energy.gov/articles/us-india-joint...  \n",
       "9   https://www.energy.gov/articles/statement-secr...  \n",
       "10  https://www.energy.gov/articles/doe-support-11...  \n",
       "11  https://www.energy.gov/articles/doe-launches-i...  \n",
       "12  https://www.energy.gov/articles/biden-administ...  \n",
       "13  https://www.energy.gov/articles/secretary-gran...  \n",
       "14  https://www.energy.gov/articles/doe-announces-...  \n",
       "15  https://www.energy.gov/articles/doe-announces-...  \n",
       "16  https://www.energy.gov/articles/doe-announces-...  \n",
       "17  https://www.energy.gov/articles/statement-secr...  \n",
       "18  https://www.energy.gov/articles/statement-secr...  \n",
       "19  https://www.energy.gov/articles/statement-secr...  "
      ],
      "text/html": "<div>\n<style scoped>\n    .dataframe tbody tr th:only-of-type {\n        vertical-align: middle;\n    }\n\n    .dataframe tbody tr th {\n        vertical-align: top;\n    }\n\n    .dataframe thead th {\n        text-align: right;\n    }\n</style>\n<table border=\"1\" class=\"dataframe\">\n  <thead>\n    <tr style=\"text-align: right;\">\n      <th></th>\n      <th>article_date</th>\n      <th>article_description</th>\n      <th>article_title</th>\n      <th>article_url</th>\n    </tr>\n  </thead>\n  <tbody>\n    <tr>\n      <th>0</th>\n      <td>2021-05-04</td>\n      <td>WASHINGTON, D.C. —  Yesterday, at a roundtable...</td>\n      <td>ICYMI: Secretary Granholm Says \"We Need Divers...</td>\n      <td>https://www.energy.gov/articles/icymi-secretar...</td>\n    </tr>\n    <tr>\n      <th>1</th>\n      <td>2021-04-22</td>\n      <td>WASHINGTON, D.C. —  Secretary of Energy Jennif...</td>\n      <td>Statement by Secretary Granholm on President B...</td>\n      <td>https://www.energy.gov/articles/statement-secr...</td>\n    </tr>\n    <tr>\n      <th>2</th>\n      <td>2021-05-03</td>\n      <td>WASHINGTON, D.C. —  The U.S. Department of Ene...</td>\n      <td>DOE Awards $17.3 Million for Student and Facul...</td>\n      <td>https://www.energy.gov/articles/doe-awards-173...</td>\n    </tr>\n    <tr>\n      <th>3</th>\n      <td>2021-04-30</td>\n      <td>WASHINGTON, D.C. —  The U.S. Department of Ene...</td>\n      <td>DOE Announces $12 Million to Advance Geotherma...</td>\n      <td>https://www.energy.gov/articles/doe-announces-...</td>\n    </tr>\n    <tr>\n      <th>4</th>\n      <td>2021-04-23</td>\n      <td>There is no greater challenge facing our natio...</td>\n      <td>Joint Statement on Establishing a Net-Zero Pro...</td>\n      <td>https://www.energy.gov/articles/joint-statemen...</td>\n    </tr>\n    <tr>\n      <th>5</th>\n      <td>2021-04-29</td>\n      <td>WASHINGTON, D.C. —  The U.S. Department of Ene...</td>\n      <td>DOE Awards $19 Million for Initiatives to Prod...</td>\n      <td>https://www.energy.gov/articles/doe-awards-19-...</td>\n    </tr>\n    <tr>\n      <th>6</th>\n      <td>2021-04-23</td>\n      <td>WASHINGTON, D.C. —  In connection with a  Whit...</td>\n      <td>DOE Announces $109.5 Million to Support Jobs a...</td>\n      <td>https://www.energy.gov/articles/doe-announces-...</td>\n    </tr>\n    <tr>\n      <th>7</th>\n      <td>2021-05-04</td>\n      <td>WASHINGTON, D.C. —  The U.S. Department of Ene...</td>\n      <td>DOE Launches Initiatives to Accelerate Solar D...</td>\n      <td>https://www.energy.gov/articles/doe-launches-i...</td>\n    </tr>\n    <tr>\n      <th>8</th>\n      <td>2021-04-22</td>\n      <td>The United States and India are launching the ...</td>\n      <td>U.S.-India Joint Statement on Launching the U....</td>\n      <td>https://www.energy.gov/articles/us-india-joint...</td>\n    </tr>\n    <tr>\n      <th>9</th>\n      <td>2021-04-28</td>\n      <td>WASHINGTON, D.C. —  Secretary of Energy Jennif...</td>\n      <td>Statement by Secretary Granholm on President B...</td>\n      <td>https://www.energy.gov/articles/statement-secr...</td>\n    </tr>\n    <tr>\n      <th>10</th>\n      <td>2021-04-20</td>\n      <td>WASHINGTON, D.C. —  The U.S. Department of Ene...</td>\n      <td>DOE to Support 11 Remote and Island Communitie...</td>\n      <td>https://www.energy.gov/articles/doe-support-11...</td>\n    </tr>\n    <tr>\n      <th>11</th>\n      <td>2021-04-23</td>\n      <td>WASHINGTON, D.C.  — The U.S. Department of Ene...</td>\n      <td>DOE Launches International Clean Energy Initia...</td>\n      <td>https://www.energy.gov/articles/doe-launches-i...</td>\n    </tr>\n    <tr>\n      <th>12</th>\n      <td>2021-04-20</td>\n      <td>WASHINGTON, D.C. —  As part of the Biden Admin...</td>\n      <td>Biden Administration Takes Bold Action to Prot...</td>\n      <td>https://www.energy.gov/articles/biden-administ...</td>\n    </tr>\n    <tr>\n      <th>13</th>\n      <td>2021-04-19</td>\n      <td>WASHINGTON, D.C. —  Secretary of Energy Jennif...</td>\n      <td>Secretary Granholm Announces Winners of Solar ...</td>\n      <td>https://www.energy.gov/articles/secretary-gran...</td>\n    </tr>\n    <tr>\n      <th>14</th>\n      <td>2021-04-27</td>\n      <td>WASHINGTON, D.C. —  In support of the Biden Ad...</td>\n      <td>DOE Announces Up to $8.25 Billion in Loans to ...</td>\n      <td>https://www.energy.gov/articles/doe-announces-...</td>\n    </tr>\n    <tr>\n      <th>15</th>\n      <td>2021-04-16</td>\n      <td>WASHINGTON, D.C. —  The U.S. Department of Ene...</td>\n      <td>DOE Announces Notice of Sale of Crude Oil from...</td>\n      <td>https://www.energy.gov/articles/doe-announces-...</td>\n    </tr>\n    <tr>\n      <th>16</th>\n      <td>2021-04-15</td>\n      <td>WASHINGTON, D.C. —  The U.S. Department of Ene...</td>\n      <td>DOE Announces $162 Million to Decarbonize Cars...</td>\n      <td>https://www.energy.gov/articles/doe-announces-...</td>\n    </tr>\n    <tr>\n      <th>17</th>\n      <td>2021-04-09</td>\n      <td>WASHINGTON, D.C. —  Secretary of Energy Jennif...</td>\n      <td>Statement by Secretary Granholm on President B...</td>\n      <td>https://www.energy.gov/articles/statement-secr...</td>\n    </tr>\n    <tr>\n      <th>18</th>\n      <td>2021-04-14</td>\n      <td>WASHINGTON, D.C.—  Secretary of Energy Jennife...</td>\n      <td>Statement by Secretary Granholm on President B...</td>\n      <td>https://www.energy.gov/articles/statement-secr...</td>\n    </tr>\n    <tr>\n      <th>19</th>\n      <td>2021-04-09</td>\n      <td>WASHINGTON, D.C. —  The Biden-Harris Administr...</td>\n      <td>Statement by Secretary Granholm on the Preside...</td>\n      <td>https://www.energy.gov/articles/statement-secr...</td>\n    </tr>\n  </tbody>\n</table>\n</div>"
     },
     "metadata": {},
     "execution_count": 13
    }
   ],
   "source": [
    "df = pd.read_csv('/Users/macbookpro/Documents/randomCodes/Company/MindWorksGlobal/NewsScraperScrapy/articles.csv')\n",
    "df"
   ]
  },
  {
   "cell_type": "code",
   "execution_count": 16,
   "metadata": {},
   "outputs": [
    {
     "output_type": "execute_result",
     "data": {
      "text/plain": [
       "\"There is no greater challenge facing our nation and our planet than the climate crisis. That’s why President Biden has laid out the boldest climate agenda in our nation’s history – one that will spur an equitable clean energy economy and cement the United States on a path to net-zero emissions by 2050. To achieve our global climate goals we need cooperation from all major emitters, including oil and gas producing nations, to identify and act on solutions to phase out unabated fossil fuel emissions, while reducing emissions to the maximum extent possible in the interim. For this reason, the U.S. Department of Energy has led on creating a new international forum dedicated to developing long-term strategies to reach global net-zero emissions. Canada, Norway, Qatar, Saudi Arabia, and the United States, collectively representing 40 percent of global oil and gas production, will come together to form a cooperative forum that will develop pragmatic net-zero emission strategies, including methane abatement, advancing the circular carbon economy approach, development and deployment of clean-energy and carbon capture and storage technologies, diversification from reliance on hydrocarbon revenues, and other measures in line with each country's national circumstances.\""
      ]
     },
     "metadata": {},
     "execution_count": 16
    }
   ],
   "source": [
    "df.loc[4, 'article_description']"
   ]
  },
  {
   "cell_type": "code",
   "execution_count": null,
   "metadata": {},
   "outputs": [],
   "source": []
  }
 ],
 "metadata": {
  "kernelspec": {
   "name": "python392jvsc74a57bd03b1eb4b2796ca736d861cdf29b93bc923950f58dbd189828e384f1f36452372b",
   "display_name": "Python 3.9.2 64-bit"
  },
  "language_info": {
   "codemirror_mode": {
    "name": "ipython",
    "version": 3
   },
   "file_extension": ".py",
   "mimetype": "text/x-python",
   "name": "python",
   "nbconvert_exporter": "python",
   "pygments_lexer": "ipython3",
   "version": "3.9.2"
  }
 },
 "nbformat": 4,
 "nbformat_minor": 5
}