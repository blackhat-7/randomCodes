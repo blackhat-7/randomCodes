{
 "metadata": {
  "language_info": {
   "codemirror_mode": {
    "name": "ipython",
    "version": 3
   },
   "file_extension": ".py",
   "mimetype": "text/x-python",
   "name": "python",
   "nbconvert_exporter": "python",
   "pygments_lexer": "ipython3",
   "version": "3.8.5-final"
  },
  "orig_nbformat": 2,
  "kernelspec": {
   "name": "python38564bite573e6c99e9041da8790b1cace675f83",
   "display_name": "Python 3.8.5 64-bit"
  }
 },
 "nbformat": 4,
 "nbformat_minor": 2,
 "cells": [
  {
   "cell_type": "code",
   "execution_count": 47,
   "metadata": {},
   "outputs": [],
   "source": [
    "# Import Libraries\n",
    "import numpy as np\n",
    "from random import randint"
   ]
  },
  {
   "cell_type": "code",
   "execution_count": 48,
   "metadata": {
    "tags": []
   },
   "outputs": [
    {
     "output_type": "execute_result",
     "data": {
      "text/plain": "array([1, 2, 3, 5, 6], dtype=int32)"
     },
     "metadata": {},
     "execution_count": 48
    }
   ],
   "source": [
    "# 1D array\n",
    "array_1d = np.array([1,2,3,5,6], dtype='int32')\n",
    "array_1d"
   ]
  },
  {
   "cell_type": "code",
   "execution_count": 49,
   "metadata": {},
   "outputs": [
    {
     "output_type": "execute_result",
     "data": {
      "text/plain": "array([[ 6.,  3., 10.],\n       [ 4.,  4.,  4.],\n       [ 0., 10., 10.],\n       [ 5., 10.,  9.],\n       [ 6.,  9.,  4.]], dtype=float32)"
     },
     "metadata": {},
     "execution_count": 49
    }
   ],
   "source": [
    "# 2D array\n",
    "m = 5\n",
    "n = 3\n",
    "array_2d = np.array([[randint(0, 10) for j in range(n)] for i in range(m)], dtype='float32')\n",
    "array_2d"
   ]
  },
  {
   "cell_type": "code",
   "execution_count": 50,
   "metadata": {
    "tags": []
   },
   "outputs": [
    {
     "output_type": "stream",
     "name": "stdout",
     "text": "1\n2\n"
    }
   ],
   "source": [
    "# Numebr of dimentions\n",
    "print(array_1d.ndim)\n",
    "print(array_2d.ndim)\n"
   ]
  },
  {
   "cell_type": "code",
   "execution_count": 51,
   "metadata": {
    "tags": []
   },
   "outputs": [
    {
     "output_type": "stream",
     "name": "stdout",
     "text": "(5,)\n(5, 3)\n"
    }
   ],
   "source": [
    "# Shape of array\n",
    "print(array_1d.shape)\n",
    "print(array_2d.shape)"
   ]
  },
  {
   "cell_type": "code",
   "execution_count": 52,
   "metadata": {
    "tags": []
   },
   "outputs": [
    {
     "output_type": "stream",
     "name": "stdout",
     "text": "int32\nfloat32\n"
    }
   ],
   "source": [
    "# Get type\n",
    "print(array_1d.dtype)\n",
    "print(array_2d.dtype)"
   ]
  },
  {
   "cell_type": "code",
   "execution_count": 53,
   "metadata": {
    "tags": []
   },
   "outputs": [
    {
     "output_type": "stream",
     "name": "stdout",
     "text": "4\n4\n"
    }
   ],
   "source": [
    "# Number of bytes per item\n",
    "print(array_1d.itemsize)\n",
    "print(array_2d.itemsize)"
   ]
  },
  {
   "cell_type": "code",
   "execution_count": 54,
   "metadata": {
    "tags": []
   },
   "outputs": [
    {
     "output_type": "stream",
     "name": "stdout",
     "text": "5\n15\n"
    }
   ],
   "source": [
    "# Size of array\n",
    "print(array_1d.size)\n",
    "print(array_2d.size)"
   ]
  },
  {
   "cell_type": "code",
   "execution_count": 55,
   "metadata": {
    "tags": []
   },
   "outputs": [
    {
     "output_type": "stream",
     "name": "stdout",
     "text": "20\n60\n"
    }
   ],
   "source": [
    "# Number of bytes utilized nbytes = size * itemsize\n",
    "print(array_1d.nbytes)\n",
    "print(array_2d.nbytes)"
   ]
  },
  {
   "cell_type": "code",
   "execution_count": 56,
   "metadata": {
    "tags": []
   },
   "outputs": [
    {
     "output_type": "stream",
     "name": "stdout",
     "text": "4.0\n"
    }
   ],
   "source": [
    "# Get spcific element [r, c]\n",
    "print(array_2d[1, 2])"
   ]
  },
  {
   "cell_type": "code",
   "execution_count": 57,
   "metadata": {
    "tags": []
   },
   "outputs": [
    {
     "output_type": "stream",
     "name": "stdout",
     "text": "[4. 4. 4.]\n"
    }
   ],
   "source": [
    "# get specific row\n",
    "print(array_2d[1, :])"
   ]
  },
  {
   "cell_type": "code",
   "execution_count": 58,
   "metadata": {
    "tags": []
   },
   "outputs": [
    {
     "output_type": "stream",
     "name": "stdout",
     "text": "[10.  4. 10.  9.  4.]\n"
    }
   ],
   "source": [
    "# get specific column\n",
    "print(array_2d[:, 2])"
   ]
  },
  {
   "cell_type": "code",
   "execution_count": 59,
   "metadata": {
    "tags": []
   },
   "outputs": [
    {
     "output_type": "stream",
     "name": "stdout",
     "text": "[[ 6.  3. 10.]\n [ 4.  4.  4.]\n [ 0. 10. 10.]\n [ 5. 10.  9.]\n [ 6.  9.  4.]]\n"
    }
   ],
   "source": [
    "print(array_2d)"
   ]
  },
  {
   "cell_type": "code",
   "execution_count": 60,
   "metadata": {
    "tags": []
   },
   "outputs": [
    {
     "output_type": "stream",
     "name": "stdout",
     "text": "[ 3. 10.  9.]\n"
    }
   ],
   "source": [
    "# Every alternate in 2nd column\n",
    "print(array_2d[::2, 1])"
   ]
  },
  {
   "cell_type": "code",
   "execution_count": 61,
   "metadata": {
    "tags": []
   },
   "outputs": [
    {
     "output_type": "stream",
     "name": "stdout",
     "text": "[[0]\n [0]\n [0]]\n\n[[[1.]\n  [1.]]]\n\n['za21eds' 'za21eds' 'za21eds']\n[[100 104 100]\n [101 103 102]]\n[[0.4967822  0.94546571 0.64697687]\n [0.6872806  0.27471569 0.30311042]\n [0.7162192  0.18992726 0.21654584]\n [0.9512879  0.02603913 0.9538329 ]\n [0.20809489 0.97436745 0.44437974]]\n[[1 2 3 5 6]\n [1 2 3 5 6]\n [1 2 3 5 6]]\n"
    }
   ],
   "source": [
    "print(np.zeros((3,1), dtype='int8'), end='\\n\\n')\n",
    "print(np.ones((1,2,1)), end='\\n\\n')\n",
    "print(np.full((3,), 'za21eds'))\n",
    "print(np.random.randint(100, 105, size=(2,3)))\n",
    "print(np.random.random_sample(array_2d.shape))\n",
    "np.identity(3)\n",
    "print(np.repeat([array_1d], 3, axis=0))"
   ]
  },
  {
   "cell_type": "code",
   "execution_count": 62,
   "metadata": {
    "tags": []
   },
   "outputs": [
    {
     "output_type": "stream",
     "name": "stdout",
     "text": "[[0. 0. 0.]\n [0. 9. 0.]\n [0. 0. 0.]]\n"
    },
    {
     "output_type": "execute_result",
     "data": {
      "text/plain": "array([[1, 1, 1, 1, 1],\n       [1, 0, 0, 0, 1],\n       [1, 0, 9, 0, 1],\n       [1, 0, 0, 0, 1],\n       [1, 1, 1, 1, 1]], dtype=int32)"
     },
     "metadata": {},
     "execution_count": 62
    }
   ],
   "source": [
    "mat = np.ones((5, 5), dtype='int32')\n",
    "temp = np.zeros((3, 3))\n",
    "temp[1,1] = 9\n",
    "mat[1:4, 1:4] = temp.copy()\n",
    "print(temp)\n",
    "mat"
   ]
  },
  {
   "cell_type": "markdown",
   "metadata": {},
   "source": [
    "## Math with NumPy"
   ]
  },
  {
   "cell_type": "code",
   "execution_count": 63,
   "metadata": {},
   "outputs": [
    {
     "output_type": "execute_result",
     "data": {
      "text/plain": "array([1, 2, 3, 5, 6], dtype=int32)"
     },
     "metadata": {},
     "execution_count": 63
    }
   ],
   "source": [
    "array_1d"
   ]
  },
  {
   "cell_type": "code",
   "execution_count": 64,
   "metadata": {},
   "outputs": [
    {
     "output_type": "execute_result",
     "data": {
      "text/plain": "array([0.5, 1. , 1.5, 2.5, 3. ])"
     },
     "metadata": {},
     "execution_count": 64
    }
   ],
   "source": [
    "array_1d / 2"
   ]
  },
  {
   "cell_type": "code",
   "execution_count": 65,
   "metadata": {},
   "outputs": [
    {
     "output_type": "execute_result",
     "data": {
      "text/plain": "array([ 2,  4,  6, 10, 12], dtype=int32)"
     },
     "metadata": {},
     "execution_count": 65
    }
   ],
   "source": [
    "array_1d * 2"
   ]
  },
  {
   "cell_type": "code",
   "execution_count": 66,
   "metadata": {},
   "outputs": [
    {
     "output_type": "execute_result",
     "data": {
      "text/plain": "array([ 1,  4,  9, 25, 36], dtype=int32)"
     },
     "metadata": {},
     "execution_count": 66
    }
   ],
   "source": [
    "array_1d ** 2"
   ]
  },
  {
   "cell_type": "code",
   "execution_count": 67,
   "metadata": {},
   "outputs": [
    {
     "output_type": "execute_result",
     "data": {
      "text/plain": "array([1.        , 1.41421356, 1.73205081, 2.23606798, 2.44948974])"
     },
     "metadata": {},
     "execution_count": 67
    }
   ],
   "source": [
    "array_1d ** (1/2)"
   ]
  },
  {
   "cell_type": "code",
   "execution_count": 68,
   "metadata": {},
   "outputs": [
    {
     "output_type": "execute_result",
     "data": {
      "text/plain": "array([ 0.84147098,  0.90929743,  0.14112001, -0.95892427, -0.2794155 ])"
     },
     "metadata": {},
     "execution_count": 68
    }
   ],
   "source": [
    "np.sin(array_1d)"
   ]
  },
  {
   "cell_type": "markdown",
   "metadata": {},
   "source": [
    "### Linear Algebra"
   ]
  },
  {
   "cell_type": "code",
   "execution_count": 69,
   "metadata": {},
   "outputs": [
    {
     "output_type": "execute_result",
     "data": {
      "text/plain": "array([[1, 1, 1],\n       [1, 1, 1]])"
     },
     "metadata": {},
     "execution_count": 69
    }
   ],
   "source": [
    "a = np.full((2, 3), 1)\n",
    "a"
   ]
  },
  {
   "cell_type": "code",
   "execution_count": 70,
   "metadata": {},
   "outputs": [
    {
     "output_type": "execute_result",
     "data": {
      "text/plain": "array([[2, 2],\n       [2, 2],\n       [2, 2]])"
     },
     "metadata": {},
     "execution_count": 70
    }
   ],
   "source": [
    "b = np.full((3, 2), 2)\n",
    "b"
   ]
  },
  {
   "cell_type": "code",
   "execution_count": 71,
   "metadata": {},
   "outputs": [
    {
     "output_type": "execute_result",
     "data": {
      "text/plain": "array([[6, 6],\n       [6, 6]])"
     },
     "metadata": {},
     "execution_count": 71
    }
   ],
   "source": [
    "np.dot(a,b)"
   ]
  },
  {
   "cell_type": "code",
   "execution_count": 72,
   "metadata": {},
   "outputs": [
    {
     "output_type": "execute_result",
     "data": {
      "text/plain": "1.0"
     },
     "metadata": {},
     "execution_count": 72
    }
   ],
   "source": [
    "np.linalg.det(np.identity(5))"
   ]
  },
  {
   "cell_type": "code",
   "execution_count": 73,
   "metadata": {},
   "outputs": [
    {
     "output_type": "execute_result",
     "data": {
      "text/plain": "array([ 4.+0.00000000e+00j, -2.+1.10465796e-15j, -2.-1.10465796e-15j])"
     },
     "metadata": {},
     "execution_count": 73
    }
   ],
   "source": [
    "a = np.array([[1, -3, 3], [3, -5, 3], [6, -6, 4]])\n",
    "np.linalg.eigvals(a)"
   ]
  },
  {
   "cell_type": "markdown",
   "metadata": {},
   "source": [
    "### Statistics"
   ]
  },
  {
   "cell_type": "code",
   "execution_count": 74,
   "metadata": {},
   "outputs": [
    {
     "output_type": "execute_result",
     "data": {
      "text/plain": "array([-3, -5, -6])"
     },
     "metadata": {},
     "execution_count": 74
    }
   ],
   "source": [
    "np.min(a, axis=1)"
   ]
  },
  {
   "cell_type": "code",
   "execution_count": 75,
   "metadata": {},
   "outputs": [
    {
     "output_type": "execute_result",
     "data": {
      "text/plain": "6"
     },
     "metadata": {},
     "execution_count": 75
    }
   ],
   "source": [
    "np.sum(a)"
   ]
  },
  {
   "cell_type": "code",
   "execution_count": 76,
   "metadata": {},
   "outputs": [
    {
     "output_type": "execute_result",
     "data": {
      "text/plain": "False"
     },
     "metadata": {},
     "execution_count": 76
    }
   ],
   "source": [
    "b = np.zeros((3,3))\n",
    "np.any(b)"
   ]
  },
  {
   "cell_type": "markdown",
   "metadata": {},
   "source": [
    "### Reorganizing"
   ]
  },
  {
   "cell_type": "code",
   "execution_count": 77,
   "metadata": {},
   "outputs": [
    {
     "output_type": "execute_result",
     "data": {
      "text/plain": "array([[ 1, -3,  3],\n       [ 3, -5,  3],\n       [ 6, -6,  4]])"
     },
     "metadata": {},
     "execution_count": 77
    }
   ],
   "source": [
    "a"
   ]
  },
  {
   "cell_type": "code",
   "execution_count": 78,
   "metadata": {},
   "outputs": [
    {
     "output_type": "execute_result",
     "data": {
      "text/plain": "array([[ 1],\n       [-3],\n       [ 3],\n       [ 3],\n       [-5],\n       [ 3],\n       [ 6],\n       [-6],\n       [ 4]])"
     },
     "metadata": {},
     "execution_count": 78
    }
   ],
   "source": [
    "np.reshape(a, (9,1))"
   ]
  },
  {
   "cell_type": "markdown",
   "metadata": {},
   "source": [
    "### Vertical stacks"
   ]
  },
  {
   "cell_type": "code",
   "execution_count": 79,
   "metadata": {},
   "outputs": [
    {
     "output_type": "execute_result",
     "data": {
      "text/plain": "array([[1, 2, 3, 4],\n       [5, 6, 7, 8]])"
     },
     "metadata": {},
     "execution_count": 79
    }
   ],
   "source": [
    "a = np.array([1,2,3,4])\n",
    "b = np.array([5,6,7,8])\n",
    "np.vstack([a,b])"
   ]
  },
  {
   "cell_type": "code",
   "execution_count": 80,
   "metadata": {},
   "outputs": [
    {
     "output_type": "execute_result",
     "data": {
      "text/plain": "array([1, 2, 3, 4, 5, 6, 7, 8])"
     },
     "metadata": {},
     "execution_count": 80
    }
   ],
   "source": [
    "np.hstack([a,b])"
   ]
  },
  {
   "cell_type": "code",
   "execution_count": 81,
   "metadata": {},
   "outputs": [
    {
     "output_type": "execute_result",
     "data": {
      "text/plain": "array([[1, 2, 3, 4],\n       [5, 6, 7, 8],\n       [1, 2, 3, 4],\n       [5, 6, 7, 8]])"
     },
     "metadata": {},
     "execution_count": 81
    }
   ],
   "source": [
    "np.vstack([a,b,a,b])"
   ]
  },
  {
   "cell_type": "markdown",
   "metadata": {},
   "source": [
    "## Loading from file"
   ]
  },
  {
   "cell_type": "code",
   "execution_count": 82,
   "metadata": {},
   "outputs": [
    {
     "output_type": "execute_result",
     "data": {
      "text/plain": "array([[95, 64, 61, 51, 93, 74, 29, 28],\n       [60,  9, 25, 52, 99, 40,  6, 93],\n       [81, 16, 31, 63, 36, 44, 69, 64],\n       [57, 99, 96, 11,  5, 99, 64, 92],\n       [85, 36, 18, 28, 90, 86, 37, 91]], dtype=int32)"
     },
     "metadata": {},
     "execution_count": 82
    }
   ],
   "source": [
    "data = np.random.randint(0, 100, size=(5, 8), dtype='int32')\n",
    "np.savetxt('data.csv', data, delimiter=',')\n",
    "data"
   ]
  },
  {
   "cell_type": "code",
   "execution_count": 93,
   "metadata": {},
   "outputs": [
    {
     "output_type": "execute_result",
     "data": {
      "text/plain": "array([[95, 64, 61, 51, 93, 74, 29, 28],\n       [60,  9, 25, 52, 99, 40,  6, 93],\n       [81, 16, 31, 63, 36, 44, 69, 64],\n       [57, 99, 96, 11,  5, 99, 64, 92],\n       [85, 36, 18, 28, 90, 86, 37, 91]], dtype=int32)"
     },
     "metadata": {},
     "execution_count": 93
    }
   ],
   "source": [
    "load = np.loadtxt('data.csv', delimiter=',', dtype='int32')\n",
    "load"
   ]
  },
  {
   "cell_type": "code",
   "execution_count": 95,
   "metadata": {},
   "outputs": [
    {
     "output_type": "execute_result",
     "data": {
      "text/plain": "array([[30, 52, 41, 79, 46],\n       [44, 39,  8, 31, 54],\n       [ 9, 76, 16, 76, 37],\n       [62, 22, 74, 46,  5],\n       [29, 42, 86, 80, 96],\n       [95, 32, 25, 48, 39]])"
     },
     "metadata": {},
     "execution_count": 95
    }
   ],
   "source": [
    "a = np.random.randint(0, 100, size=(6,5))\n",
    "a"
   ]
  },
  {
   "cell_type": "code",
   "execution_count": 96,
   "metadata": {},
   "outputs": [
    {
     "output_type": "execute_result",
     "data": {
      "text/plain": "array([52,  8, 76,  5])"
     },
     "metadata": {},
     "execution_count": 96
    }
   ],
   "source": [
    "a[list(range(4)), list(range(1,5))]"
   ]
  },
  {
   "cell_type": "code",
   "execution_count": 105,
   "metadata": {},
   "outputs": [
    {
     "output_type": "execute_result",
     "data": {
      "text/plain": "array([[79, 46],\n       [80, 96],\n       [48, 39]])"
     },
     "metadata": {},
     "execution_count": 105
    }
   ],
   "source": [
    "np.vstack([a[:1, -2:], a[-2:, -2:]])"
   ]
  },
  {
   "cell_type": "code",
   "execution_count": null,
   "metadata": {},
   "outputs": [],
   "source": []
  }
 ]
}