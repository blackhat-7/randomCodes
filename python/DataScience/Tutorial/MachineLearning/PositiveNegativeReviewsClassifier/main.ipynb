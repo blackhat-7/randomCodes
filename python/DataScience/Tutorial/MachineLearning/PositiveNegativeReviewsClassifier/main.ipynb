{
 "metadata": {
  "language_info": {
   "codemirror_mode": {
    "name": "ipython",
    "version": 3
   },
   "file_extension": ".py",
   "mimetype": "text/x-python",
   "name": "python",
   "nbconvert_exporter": "python",
   "pygments_lexer": "ipython3",
   "version": "3.8.5-final"
  },
  "orig_nbformat": 2,
  "kernelspec": {
   "name": "python38564bit6355121c062041e1bcd85770188ee938",
   "display_name": "Python 3.8.5 64-bit"
  }
 },
 "nbformat": 4,
 "nbformat_minor": 2,
 "cells": [
  {
   "cell_type": "markdown",
   "metadata": {},
   "source": [
    "## Import Libraries"
   ]
  },
  {
   "cell_type": "code",
   "execution_count": 45,
   "metadata": {},
   "outputs": [],
   "source": [
    "import json\n",
    "import pandas as pd\n",
    "import numpy as np\n",
    "from sklearn.model_selection import train_test_split"
   ]
  },
  {
   "cell_type": "markdown",
   "metadata": {},
   "source": [
    "## Sentiment and Review Classes"
   ]
  },
  {
   "cell_type": "code",
   "execution_count": 46,
   "metadata": {},
   "outputs": [],
   "source": [
    "class Sentiment:\n",
    "    POSITIVE = 'POSITIVE'\n",
    "    NEUTRAL = 'NEUTRAL'\n",
    "    NEGATIVE = 'NEGATIVE'\n",
    "\n",
    "class Review:\n",
    "    def __init__(self, text, rating):\n",
    "        self.text = text\n",
    "        self.sentiment = self.get_sentiment(rating)\n",
    "    \n",
    "    def get_sentiment(self, rating):\n",
    "        if rating >= 4:\n",
    "            return Sentiment.POSITIVE\n",
    "        if rating == 3:\n",
    "            return Sentiment.NEUTRAL\n",
    "        if rating <= 2:\n",
    "            return Sentiment.NEGATIVE\n",
    "    def __repr__(self):\n",
    "        return 'Text: ' + self.text[:50] + '\\nSentiment: ' + self.sentiment + '\\n'\n",
    "\n",
    "class ReviewContainer:\n",
    "    def __init__(self, reviews):\n",
    "        self.reviews = reviews\n",
    "    \n",
    "    def balance_data(self):\n",
    "        positive = []\n",
    "        neutral = []\n",
    "        negative = []\n",
    "        for r in reviews:\n",
    "            if r.sentiment == Sentiment.POSITIVE:\n",
    "                positive += [r]\n",
    "            if r.sentiment == Sentiment.NEUTRAL:\n",
    "                neutral += [r]\n",
    "            if r.sentiment == Sentiment.NEGATIVE:\n",
    "                negative += [r]\n",
    "        min_len = min(len(positive), len(neutral), len(negative))\n",
    "        positive = positive[:min_len]\n",
    "        neutral = neutral[:min_len]\n",
    "        negative = negative[:min_len]\n",
    "        self.reviews"
   ]
  },
  {
   "cell_type": "markdown",
   "metadata": {},
   "source": [
    "## Read Data"
   ]
  },
  {
   "cell_type": "code",
   "execution_count": 47,
   "metadata": {
    "tags": []
   },
   "outputs": [
    {
     "output_type": "stream",
     "name": "stdout",
     "text": "[Text: I bought both boxed sets, books 1-5.  Really a gre\nSentiment: POSITIVE\n, Text: I enjoyed this short book. But it was way way to s\nSentiment: NEUTRAL\n]\n"
    }
   ],
   "source": [
    "file_name = 'data/Books_small_10000.json'\n",
    "reviews = []\n",
    "with open(file_name) as f:\n",
    "    for line in f:\n",
    "        rev = json.loads(line)\n",
    "        reviews += [Review(rev['reviewText'], int(rev['overall']))]\n",
    "print(reviews[:2])"
   ]
  },
  {
   "cell_type": "markdown",
   "metadata": {},
   "source": [
    "## Prep data"
   ]
  },
  {
   "cell_type": "code",
   "execution_count": 48,
   "metadata": {},
   "outputs": [],
   "source": [
    "train, test = train_test_split(reviews, test_size=0.33, random_state=42)\n",
    "train_x = [x.text for x in train]\n",
    "train_y = [x.sentiment for x in train]\n",
    "test_x = [x.text for x in test]\n",
    "test_y = [x.sentiment for x in test]"
   ]
  },
  {
   "cell_type": "markdown",
   "metadata": {},
   "source": [
    "## Vectorize X"
   ]
  },
  {
   "cell_type": "code",
   "execution_count": 49,
   "metadata": {},
   "outputs": [],
   "source": [
    "from sklearn.feature_extraction.text import CountVectorizer\n"
   ]
  },
  {
   "cell_type": "code",
   "execution_count": 50,
   "metadata": {
    "tags": []
   },
   "outputs": [],
   "source": [
    "vectorizer = CountVectorizer()\n",
    "train_x_vector = vectorizer.fit_transform(raw_documents=train_x)\n",
    "test_x_vector = vectorizer.transform(raw_documents=test_x)"
   ]
  },
  {
   "cell_type": "markdown",
   "metadata": {},
   "source": [
    "## Classification"
   ]
  },
  {
   "cell_type": "markdown",
   "metadata": {},
   "source": [
    "### Support Vector Machine"
   ]
  },
  {
   "cell_type": "code",
   "execution_count": 51,
   "metadata": {
    "tags": []
   },
   "outputs": [
    {
     "output_type": "execute_result",
     "data": {
      "text/plain": "SVC(kernel='linear')"
     },
     "metadata": {},
     "execution_count": 51
    }
   ],
   "source": [
    "from sklearn import svm\n",
    "\n",
    "clf_svm = svm.SVC(kernel='linear')\n",
    "clf_svm.fit(train_x_vector, train_y)"
   ]
  },
  {
   "cell_type": "markdown",
   "metadata": {},
   "source": [
    "## Decision Tree"
   ]
  },
  {
   "cell_type": "code",
   "execution_count": 52,
   "metadata": {},
   "outputs": [
    {
     "output_type": "execute_result",
     "data": {
      "text/plain": "DecisionTreeClassifier()"
     },
     "metadata": {},
     "execution_count": 52
    }
   ],
   "source": [
    "from sklearn.tree import DecisionTreeClassifier\n",
    "\n",
    "clf_dct = DecisionTreeClassifier()\n",
    "clf_dct.fit(train_x_vector, train_y)"
   ]
  },
  {
   "cell_type": "markdown",
   "metadata": {},
   "source": [
    "## Naive Bayes"
   ]
  },
  {
   "cell_type": "code",
   "execution_count": 53,
   "metadata": {},
   "outputs": [
    {
     "output_type": "execute_result",
     "data": {
      "text/plain": "GaussianNB()"
     },
     "metadata": {},
     "execution_count": 53
    }
   ],
   "source": [
    "from sklearn.naive_bayes import GaussianNB\n",
    "\n",
    "clf_nb = GaussianNB()\n",
    "clf_nb.fit(train_x_vector.toarray(), train_y)"
   ]
  },
  {
   "cell_type": "markdown",
   "metadata": {},
   "source": [
    "## Logistic Regression"
   ]
  },
  {
   "cell_type": "code",
   "execution_count": 54,
   "metadata": {},
   "outputs": [
    {
     "output_type": "execute_result",
     "data": {
      "text/plain": "LogisticRegression()"
     },
     "metadata": {},
     "execution_count": 54
    }
   ],
   "source": [
    "from sklearn.linear_model import LogisticRegression\n",
    "\n",
    "clf_lr = LogisticRegression()\n",
    "clf_lr.fit(train_x_vector, train_y)"
   ]
  },
  {
   "cell_type": "markdown",
   "metadata": {},
   "source": [
    "## Evaluation"
   ]
  },
  {
   "cell_type": "code",
   "execution_count": 55,
   "metadata": {
    "tags": []
   },
   "outputs": [
    {
     "output_type": "stream",
     "name": "stdout",
     "text": "0.8124242424242424\n0.7766666666666666\n0.6587878787878788\n0.8409090909090909\n"
    }
   ],
   "source": [
    "# Mean Accuracy\n",
    "\n",
    "print(clf_svm.score(test_x_vector, test_y))\n",
    "print(clf_dct.score(test_x_vector, test_y))\n",
    "print(clf_nb.score(test_x_vector.toarray(), test_y))\n",
    "print(clf_lr.score(test_x_vector, test_y))"
   ]
  },
  {
   "cell_type": "code",
   "execution_count": 56,
   "metadata": {
    "tags": []
   },
   "outputs": [
    {
     "output_type": "stream",
     "name": "stdout",
     "text": "[0.90738061 0.2656     0.40268456]\n"
    }
   ],
   "source": [
    "# F1 Score\n",
    "\n",
    "from sklearn.metrics import f1_score\n",
    "\n",
    "print(f1_score(test_y, clf_svm.predict(test_x_vector), average=None, labels=[Sentiment.POSITIVE, Sentiment.NEUTRAL, Sentiment.NEGATIVE]))"
   ]
  },
  {
   "cell_type": "code",
   "execution_count": 57,
   "metadata": {
    "tags": []
   },
   "outputs": [
    {
     "output_type": "stream",
     "name": "stdout",
     "text": "2767\n325\n208\n"
    }
   ],
   "source": [
    "print(test_y.count(Sentiment.POSITIVE))\n",
    "print(test_y.count(Sentiment.NEUTRAL))\n",
    "print(test_y.count(Sentiment.NEGATIVE))"
   ]
  },
  {
   "cell_type": "markdown",
   "metadata": {},
   "source": [
    "## Test With Your Own Input"
   ]
  },
  {
   "cell_type": "code",
   "execution_count": 58,
   "metadata": {},
   "outputs": [
    {
     "output_type": "execute_result",
     "data": {
      "text/plain": "array(['POSITIVE', 'POSITIVE'], dtype='<U8')"
     },
     "metadata": {},
     "execution_count": 58
    }
   ],
   "source": [
    "my_test = [\"Very good\", \"bad\"]\n",
    "test_vec = vectorizer.transform(my_test)\n",
    "clf_svm.predict(test_vec)"
   ]
  },
  {
   "cell_type": "code",
   "execution_count": null,
   "metadata": {},
   "outputs": [],
   "source": []
  }
 ]
}