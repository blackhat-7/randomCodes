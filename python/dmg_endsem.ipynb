{
 "cells": [
  {
   "cell_type": "code",
   "execution_count": 3,
   "metadata": {},
   "outputs": [],
   "source": [
    "from sklearn.cluster import DBSCAN\n",
    "import numpy as np"
   ]
  },
  {
   "cell_type": "code",
   "execution_count": 37,
   "metadata": {},
   "outputs": [
    {
     "name": "stdout",
     "output_type": "stream",
     "text": [
      "[-1 -1 -1 -1 -1 -1 -1 -1 -1]\n"
     ]
    }
   ],
   "source": [
    "x = np.array([2,4,10,12,3,20,30,11,25]).reshape(-1, 1)\n",
    "\n",
    "# for i in np.arange(0.1, 1, 0.1):\n",
    "#     db = DBSCAN(min_samples=3, eps=i)\n",
    "#     y = db.fit_predict(x)\n",
    "#     print(i,y)\n",
    "print(DBSCAN(min_samples=3, eps=0.9999).fit_predict(x))"
   ]
  },
  {
   "cell_type": "code",
   "execution_count": 38,
   "metadata": {},
   "outputs": [],
   "source": [
    "clusters = np.array([[1,1,0,11,4,676,693], [27,89,333,827,253,33,1562], [326,465,8,105,16,29,949], [354,555,341,943,273,738,3204]])"
   ]
  },
  {
   "cell_type": "code",
   "execution_count": 55,
   "metadata": {},
   "outputs": [
    {
     "name": "stdout",
     "output_type": "stream",
     "text": [
      "-0.19998968538141734\n",
      "-1.8407475570662515\n",
      "-1.6964096745123298\n"
     ]
    }
   ],
   "source": [
    "for cl in clusters[:-1]:\n",
    "    ans = sum([(c/cl[-1])*np.log2(c/cl[-1]) for c in cl[:-1] if c != 0])\n",
    "    print(ans)"
   ]
  },
  {
   "cell_type": "code",
   "execution_count": 72,
   "metadata": {},
   "outputs": [
    {
     "data": {
      "text/plain": [
       "1.4431127706676055"
      ]
     },
     "execution_count": 72,
     "metadata": {},
     "output_type": "execute_result"
    }
   ],
   "source": [
    "((693/3204)*(0.19998968538141734) + (1562/3204)*(1.840747557066251) + (949/3204) * (1.6964096745123298))"
   ]
  },
  {
   "cell_type": "code",
   "execution_count": 61,
   "metadata": {},
   "outputs": [],
   "source": [
    "p = np.sum(np.max(clusters[:-1,:-1], axis=1)) / np.sum(clusters[:-1,:-1])"
   ]
  },
  {
   "cell_type": "code",
   "execution_count": 62,
   "metadata": {},
   "outputs": [
    {
     "data": {
      "text/plain": [
       "0.6142322097378277"
      ]
     },
     "execution_count": 62,
     "metadata": {},
     "output_type": "execute_result"
    }
   ],
   "source": [
    "2 * ((p * p) / (p + p))"
   ]
  },
  {
   "cell_type": "code",
   "execution_count": 68,
   "metadata": {},
   "outputs": [
    {
     "name": "stdout",
     "output_type": "stream",
     "text": [
      "0.6142322097378277\n"
     ]
    }
   ],
   "source": [
    "k = 3\n",
    "s = 6\n",
    "sum_k = 0\n",
    "for i in range(k):\n",
    "    max_s = 0\n",
    "    for j in range(s):\n",
    "        if clusters[i, j] > max_s:\n",
    "            max_s = clusters[i, j]\n",
    "    sum_k += max_s\n",
    "\n",
    "p = sum_k/3204\n",
    "print(p)"
   ]
  },
  {
   "cell_type": "code",
   "execution_count": 69,
   "metadata": {},
   "outputs": [
    {
     "name": "stdout",
     "output_type": "stream",
     "text": [
      "0.898876404494382\n"
     ]
    }
   ],
   "source": [
    "k = 3\n",
    "s = 6\n",
    "sum_s = 0\n",
    "for i in range(s):\n",
    "    max_k = 0\n",
    "    for j in range(k):\n",
    "        if clusters[j, i] > max_k:\n",
    "            max_k = clusters[j, i]\n",
    "    sum_s += max_k\n",
    "r = sum_s/3204\n",
    "print(r)"
   ]
  },
  {
   "cell_type": "code",
   "execution_count": 70,
   "metadata": {},
   "outputs": [
    {
     "data": {
      "text/plain": [
       "0.7297808432528645"
      ]
     },
     "execution_count": 70,
     "metadata": {},
     "output_type": "execute_result"
    }
   ],
   "source": [
    "2 * ((p * r) / (p + r))"
   ]
  },
  {
   "cell_type": "code",
   "execution_count": null,
   "metadata": {},
   "outputs": [],
   "source": []
  }
 ],
 "metadata": {
  "kernelspec": {
   "display_name": "Python 3",
   "language": "python",
   "name": "python3"
  },
  "language_info": {
   "codemirror_mode": {
    "name": "ipython",
    "version": 3
   },
   "file_extension": ".py",
   "mimetype": "text/x-python",
   "name": "python",
   "nbconvert_exporter": "python",
   "pygments_lexer": "ipython3",
   "version": "3.7.9"
  }
 },
 "nbformat": 4,
 "nbformat_minor": 4
}
