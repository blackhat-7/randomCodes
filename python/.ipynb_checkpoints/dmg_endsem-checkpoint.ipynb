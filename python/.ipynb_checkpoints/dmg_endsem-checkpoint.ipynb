{
 "cells": [
  {
   "cell_type": "code",
   "execution_count": 3,
   "metadata": {},
   "outputs": [],
   "source": [
    "from sklearn.cluster import DBSCAN\n",
    "import numpy as np"
   ]
  },
  {
   "cell_type": "code",
   "execution_count": 37,
   "metadata": {},
   "outputs": [
    {
     "name": "stdout",
     "output_type": "stream",
     "text": [
      "[-1 -1 -1 -1 -1 -1 -1 -1 -1]\n"
     ]
    }
   ],
   "source": [
    "x = np.array([2,4,10,12,3,20,30,11,25]).reshape(-1, 1)\n",
    "\n",
    "# for i in np.arange(0.1, 1, 0.1):\n",
    "#     db = DBSCAN(min_samples=3, eps=i)\n",
    "#     y = db.fit_predict(x)\n",
    "#     print(i,y)\n",
    "print(DBSCAN(min_samples=3, eps=0.9999).fit_predict(x))"
   ]
  },
  {
   "cell_type": "code",
   "execution_count": 38,
   "metadata": {},
   "outputs": [],
   "source": [
    "clusters = np.array([[1,1,0,11,4,676,693], [27,89,333,827,253,33,1562], [326,465,8,105,16,29,949], [354,555,341,943,273,738,3204]])"
   ]
  },
  {
   "cell_type": "code",
   "execution_count": 39,
   "metadata": {},
   "outputs": [
    {
     "name": "stdout",
     "output_type": "stream",
     "text": [
      "-0.19998968538141734\n",
      "-1.8407475570662515\n",
      "-1.6964096745123298\n",
      "-2.4432109973669727\n"
     ]
    }
   ],
   "source": [
    "for cl in clusters:\n",
    "    ans = sum([(c/cl[-1])*np.log2(c/cl[-1]) for c in cl[:-1] if c != 0])\n",
    "    print(ans)"
   ]
  },
  {
   "cell_type": "code",
   "execution_count": 40,
   "metadata": {},
   "outputs": [
    {
     "data": {
      "text/plain": [
       "1.4431127706676055"
      ]
     },
     "execution_count": 40,
     "metadata": {},
     "output_type": "execute_result"
    }
   ],
   "source": [
    "-((693/3204)*(-0.19998968538141734) + (1562/3204)*(-1.840747557066251) + (949/3204) * (-1.6964096745123298))"
   ]
  },
  {
   "cell_type": "code",
   "execution_count": 50,
   "metadata": {},
   "outputs": [],
   "source": [
    "p = np.sum(np.max(clusters[:-1,:-1], axis=0)) / np.sum(clusters)"
   ]
  },
  {
   "cell_type": "code",
   "execution_count": 52,
   "metadata": {},
   "outputs": [
    {
     "data": {
      "text/plain": [
       "0.2247191011235955"
      ]
     },
     "execution_count": 52,
     "metadata": {},
     "output_type": "execute_result"
    }
   ],
   "source": [
    "2 * ((p * p) / (p + p))"
   ]
  },
  {
   "cell_type": "code",
   "execution_count": null,
   "metadata": {},
   "outputs": [],
   "source": []
  }
 ],
 "metadata": {
  "kernelspec": {
   "display_name": "Python 3",
   "language": "python",
   "name": "python3"
  },
  "language_info": {
   "codemirror_mode": {
    "name": "ipython",
    "version": 3
   },
   "file_extension": ".py",
   "mimetype": "text/x-python",
   "name": "python",
   "nbconvert_exporter": "python",
   "pygments_lexer": "ipython3",
   "version": "3.7.9"
  }
 },
 "nbformat": 4,
 "nbformat_minor": 4
}
