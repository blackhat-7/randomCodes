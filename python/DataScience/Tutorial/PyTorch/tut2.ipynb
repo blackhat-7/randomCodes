{
 "cells": [
  {
   "cell_type": "code",
   "execution_count": 52,
   "metadata": {},
   "outputs": [],
   "source": [
    "%matplotlib inline\n",
    "import torch\n",
    "from torch.utils.data import DataLoader, SubsetRandomSampler\n",
    "import torch.nn as nn\n",
    "import torch.nn.functional as F\n",
    "import torchvision\n",
    "from torchvision.datasets import MNIST\n",
    "import torchvision.transforms as transforms\n",
    "import matplotlib.pyplot as plt\n",
    "import numpy as np"
   ]
  },
  {
   "cell_type": "code",
   "execution_count": 7,
   "metadata": {},
   "outputs": [],
   "source": [
    "train = MNIST(root='data/', download=True)\n",
    "test = MNIST(root='data/', train=False)"
   ]
  },
  {
   "cell_type": "code",
   "execution_count": 8,
   "metadata": {},
   "outputs": [
    {
     "data": {
      "text/plain": [
       "(60000, 10000)"
      ]
     },
     "execution_count": 8,
     "metadata": {},
     "output_type": "execute_result"
    }
   ],
   "source": [
    "len(train), len(test)"
   ]
  },
  {
   "cell_type": "code",
   "execution_count": 11,
   "metadata": {},
   "outputs": [
    {
     "data": {
      "text/plain": [
       "(<PIL.Image.Image image mode=L size=28x28 at 0x7F84A5872A10>, 5)"
      ]
     },
     "execution_count": 11,
     "metadata": {},
     "output_type": "execute_result"
    }
   ],
   "source": [
    "train[0]"
   ]
  },
  {
   "cell_type": "code",
   "execution_count": 14,
   "metadata": {},
   "outputs": [
    {
     "name": "stdout",
     "output_type": "stream",
     "text": [
      "Label: 5\n"
     ]
    },
    {
     "data": {
      "image/png": "[encoded data removed]",
      "text/plain": [
       "<Figure size 432x288 with 1 Axes>"
      ]
     },
     "metadata": {
      "needs_background": "light"
     },
     "output_type": "display_data"
    }
   ],
   "source": [
    "image, label = train[0]\n",
    "plt.imshow(image, cmap='gray')\n",
    "print(\"Label:\", label)"
   ]
  },
  {
   "cell_type": "code",
   "execution_count": 18,
   "metadata": {},
   "outputs": [],
   "source": [
    "train = MNIST(root='data/', download=True, transform=transforms.ToTensor())\n",
    "test = MNIST(root='data/', train=False, transform=transforms.ToTensor())"
   ]
  },
  {
   "cell_type": "code",
   "execution_count": 76,
   "metadata": {},
   "outputs": [
    {
     "data": {
      "text/plain": [
       "(torch.Size([1, 28, 28]), 5)"
      ]
     },
     "execution_count": 76,
     "metadata": {},
     "output_type": "execute_result"
    }
   ],
   "source": [
    "img_tensor, label = train[0]\n",
    "img_tensor.shape, label"
   ]
  },
  {
   "cell_type": "code",
   "execution_count": 29,
   "metadata": {},
   "outputs": [],
   "source": [
    "def split_indices(n, test_size=0.1):\n",
    "    n_test = int(n * test_size)\n",
    "    random_indices = np.random.permutation(n)\n",
    "    return random_indices[n_test:], random_indices[:n_test]  #train-indices and test-indices"
   ]
  },
  {
   "cell_type": "code",
   "execution_count": 30,
   "metadata": {},
   "outputs": [
    {
     "data": {
      "text/plain": [
       "(48000, 12000)"
      ]
     },
     "execution_count": 30,
     "metadata": {},
     "output_type": "execute_result"
    }
   ],
   "source": [
    "train_indices, test_indices = split_indices(len(train), test_size=0.2)\n",
    "len(train_indices), len(test_indices)"
   ]
  },
  {
   "cell_type": "code",
   "execution_count": 43,
   "metadata": {},
   "outputs": [],
   "source": [
    "batch_size = 100\n",
    "\n",
    "train_sampler = SubsetRandomSampler(train_indices)\n",
    "test_sampler = SubsetRandomSampler(test_indices)\n",
    "\n",
    "train_dl = DataLoader(train, batch_size, sampler=train_sampler)\n",
    "test_dl = DataLoader(test, batch_size, sampler=test_sampler)"
   ]
  },
  {
   "cell_type": "code",
   "execution_count": 33,
   "metadata": {},
   "outputs": [
    {
     "data": {
      "text/plain": [
       "(torch.Size([10, 784]), torch.Size([10]))"
      ]
     },
     "execution_count": 33,
     "metadata": {},
     "output_type": "execute_result"
    }
   ],
   "source": [
    "num_features = 28 * 28\n",
    "num_classes = 10\n",
    "model = nn.Linear(num_features, num_classes)\n",
    "model.weight.shape, model.bias.shape"
   ]
  },
  {
   "cell_type": "code",
   "execution_count": 49,
   "metadata": {},
   "outputs": [],
   "source": [
    "class MnistModel(nn.Module):\n",
    "    def __init__(self, num_features, num_classes):\n",
    "        super().__init__()\n",
    "        self.linear = nn.Linear(num_features, num_classes)\n",
    "        \n",
    "    def forward(self, xb):\n",
    "        xb = xb.reshape(-1, 28*28)\n",
    "        out = self.linear(xb)\n",
    "        return out\n",
    "\n",
    "model = MnistModel(num_features, num_classes)"
   ]
  },
  {
   "cell_type": "code",
   "execution_count": 77,
   "metadata": {},
   "outputs": [
    {
     "name": "stdout",
     "output_type": "stream",
     "text": [
      "tensor([[ 0.3302, -0.1404, -0.1865, -0.1452, -0.0203,  0.2366,  0.0184, -0.0477,\n",
      "          0.0723,  0.0614],\n",
      "        [-0.0878,  0.0373, -0.0546,  0.0845,  0.0213,  0.0093, -0.1112,  0.1489,\n",
      "         -0.0006,  0.1141]], grad_fn=<SliceBackward>)\n"
     ]
    }
   ],
   "source": [
    "for xb, yb in train_dl:\n",
    "    outputs = model(xb)\n",
    "    print(out[:2])\n",
    "    labels = yb\n",
    "    break"
   ]
  },
  {
   "cell_type": "code",
   "execution_count": 64,
   "metadata": {},
   "outputs": [
    {
     "name": "stdout",
     "output_type": "stream",
     "text": [
      "tensor([[0.1045, 0.1024, 0.1288, 0.0987, 0.0787, 0.1076, 0.0984, 0.1098, 0.0871,\n",
      "         0.0840],\n",
      "        [0.0837, 0.1077, 0.1009, 0.1221, 0.1045, 0.0898, 0.0886, 0.0719, 0.0970,\n",
      "         0.1339]], grad_fn=<SliceBackward>)\n",
      "Sum:  1.0000001192092896\n"
     ]
    }
   ],
   "source": [
    "probs = F.softmax(outputs, dim=1)\n",
    "print(probs[:2])\n",
    "\n",
    "print(\"Sum: \", torch.sum(probs[0]).item())"
   ]
  },
  {
   "cell_type": "code",
   "execution_count": 67,
   "metadata": {},
   "outputs": [
    {
     "data": {
      "text/plain": [
       "(tensor([2, 9, 2, 5, 4, 2, 5, 0, 5, 3, 0, 7, 0, 2, 7, 0, 5, 9, 2, 5, 0, 5, 2, 5,\n",
       "         7, 0, 5, 7, 0, 2, 6, 5, 9, 7, 2, 5, 0, 0, 2, 9, 5, 3, 5, 5, 0, 2, 0, 5,\n",
       "         5, 3, 0, 7, 3, 5, 0, 4, 2, 0, 0, 1, 5, 5, 9, 7, 3, 0, 3, 5, 0, 5, 2, 5,\n",
       "         0, 7, 1, 9, 2, 4, 5, 3, 7, 4, 5, 4, 2, 2, 7, 0, 5, 5, 2, 1, 6, 5, 2, 2,\n",
       "         7, 0, 5, 7]),\n",
       " tensor([0.1288, 0.1339, 0.1547, 0.1285, 0.1151, 0.1245, 0.1439, 0.1167, 0.1303,\n",
       "         0.1146, 0.1384, 0.1319, 0.1250, 0.1507, 0.1345, 0.1405, 0.1332, 0.1134,\n",
       "         0.1437, 0.1331, 0.1297, 0.1473, 0.1372, 0.1206, 0.1220, 0.1596, 0.1217,\n",
       "         0.1099, 0.1219, 0.1835, 0.1236, 0.1247, 0.1129, 0.1358, 0.1391, 0.1226,\n",
       "         0.1251, 0.1264, 0.1816, 0.1231, 0.1314, 0.1293, 0.1479, 0.1192, 0.1327,\n",
       "         0.1293, 0.1312, 0.1396, 0.1411, 0.1153, 0.1177, 0.1188, 0.1351, 0.1303,\n",
       "         0.1278, 0.1177, 0.1385, 0.1146, 0.1783, 0.1291, 0.1218, 0.1229, 0.1216,\n",
       "         0.1276, 0.1422, 0.1486, 0.1189, 0.1144, 0.1141, 0.1294, 0.1214, 0.1247,\n",
       "         0.1264, 0.1232, 0.1185, 0.1226, 0.1803, 0.1298, 0.1559, 0.1155, 0.1231,\n",
       "         0.1247, 0.1180, 0.1348, 0.1252, 0.1313, 0.1270, 0.1318, 0.1197, 0.1252,\n",
       "         0.1294, 0.1128, 0.1181, 0.1176, 0.1739, 0.1130, 0.1271, 0.1265, 0.1112,\n",
       "         0.1199], grad_fn=<MaxBackward0>))"
      ]
     },
     "execution_count": 67,
     "metadata": {},
     "output_type": "execute_result"
    }
   ],
   "source": [
    "max_probs, preds = torch.max(probs, dim=1)\n",
    "preds, max_probs"
   ]
  },
  {
   "cell_type": "code",
   "execution_count": 80,
   "metadata": {},
   "outputs": [
    {
     "data": {
      "text/plain": [
       "0.09"
      ]
     },
     "execution_count": 80,
     "metadata": {},
     "output_type": "execute_result"
    }
   ],
   "source": [
    "def accuracy(ypred, ytest):\n",
    "    return torch.sum(ypred == ytest).item() / len(ypred)\n",
    "accuracy(preds, labels)"
   ]
  },
  {
   "cell_type": "code",
   "execution_count": 81,
   "metadata": {},
   "outputs": [
    {
     "data": {
      "text/plain": [
       "tensor(2.3190, grad_fn=<NllLossBackward>)"
      ]
     },
     "execution_count": 81,
     "metadata": {},
     "output_type": "execute_result"
    }
   ],
   "source": [
    "loss_fn = F.cross_entropy\n",
    "loss = loss_fn(outputs, labels)\n",
    "loss"
   ]
  },
  {
   "cell_type": "code",
   "execution_count": 82,
   "metadata": {},
   "outputs": [],
   "source": [
    "lr = 0.001\n",
    "opt = torch.optim.SGD(model.parameters(), lr=lr)"
   ]
  },
  {
   "cell_type": "code",
   "execution_count": 85,
   "metadata": {},
   "outputs": [],
   "source": [
    "def loss_batch(model, loss_func, xb, yb, optimizer=None, metric=None):\n",
    "    ypred = model(xb)\n",
    "    loss = loss_func(ypred, yb)\n",
    "    if opimizer is not None:\n",
    "        loss.backward()\n",
    "        optimizer.step()\n",
    "        optimizer.zero_grad()\n",
    "    if metric is not None:\n",
    "        result = metric(ypred, yb)\n",
    "    return loss.item(), len(xb), result"
   ]
  },
  {
   "cell_type": "code",
   "execution_count": null,
   "metadata": {},
   "outputs": [],
   "source": []
  }
 ],
 "metadata": {
  "kernelspec": {
   "display_name": "Python 3",
   "language": "python",
   "name": "python3"
  },
  "language_info": {
   "codemirror_mode": {
    "name": "ipython",
    "version": 3
   },
   "file_extension": ".py",
   "mimetype": "text/x-python",
   "name": "python",
   "nbconvert_exporter": "python",
   "pygments_lexer": "ipython3",
   "version": "3.7.9"
  }
 },
 "nbformat": 4,
 "nbformat_minor": 4
}
