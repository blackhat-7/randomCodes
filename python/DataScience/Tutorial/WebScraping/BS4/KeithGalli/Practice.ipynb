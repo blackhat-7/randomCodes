{
 "metadata": {
  "language_info": {
   "codemirror_mode": {
    "name": "ipython",
    "version": 3
   },
   "file_extension": ".py",
   "mimetype": "text/x-python",
   "name": "python",
   "nbconvert_exporter": "python",
   "pygments_lexer": "ipython3",
   "version": "3.8.5-final"
  },
  "orig_nbformat": 2,
  "kernelspec": {
   "name": "python38564bite573e6c99e9041da8790b1cace675f83",
   "display_name": "Python 3.8.5 64-bit"
  }
 },
 "nbformat": 4,
 "nbformat_minor": 2,
 "cells": [
  {
   "cell_type": "markdown",
   "metadata": {},
   "source": [
    "## Import Libraries"
   ]
  },
  {
   "cell_type": "code",
   "execution_count": 1,
   "metadata": {},
   "outputs": [],
   "source": [
    "import requests\n",
    "import re\n",
    "from bs4 import BeautifulSoup as bs\n",
    "import pandas as pd"
   ]
  },
  {
   "cell_type": "markdown",
   "metadata": {},
   "source": [
    "## Load out first web page"
   ]
  },
  {
   "cell_type": "code",
   "execution_count": 2,
   "metadata": {
    "tags": []
   },
   "outputs": [
    {
     "output_type": "stream",
     "name": "stdout",
     "text": "<html>\n <head>\n  <title>\n   HTML Example\n  </title>\n </head>\n <body>\n  <div align=\"middle\">\n   <h1>\n    HTML Webpage\n   </h1>\n   <p>\n    Link to more interesting example:\n    <a href=\"https://keithgalli.github.io/web-scraping/webpage.html\">\n     keithgalli.github.io/web-scraping/webpage.html\n    </a>\n   </p>\n  </div>\n  <h2>\n   A Header\n  </h2>\n  <p>\n   <i>\n    Some italicized text\n   </i>\n  </p>\n  <h2>\n   Another header\n  </h2>\n  <p id=\"paragraph-id\">\n   <b>\n    Some bold text\n   </b>\n  </p>\n </body>\n</html>\n\n"
    }
   ],
   "source": [
    "# Load the webpage content\n",
    "r = requests.get('https://keithgalli.github.io/web-scraping/example.html')\n",
    "\n",
    "# Convert to bs object\n",
    "soup = bs(r.content)\n",
    "\n",
    "print(soup.prettify())"
   ]
  },
  {
   "cell_type": "markdown",
   "metadata": {},
   "source": [
    "## Start using bs for scrapping"
   ]
  },
  {
   "cell_type": "code",
   "execution_count": 3,
   "metadata": {
    "tags": []
   },
   "outputs": [
    {
     "output_type": "stream",
     "name": "stdout",
     "text": "[<h2>A Header</h2>, <h2>Another header</h2>]\n[<h1>HTML Webpage</h1>, <h2>A Header</h2>, <h2>Another header</h2>]\n"
    }
   ],
   "source": [
    "first_header = soup.find_all('h2')\n",
    "headers = soup.find_all(['h1', 'h2'])\n",
    "print(first_header)\n",
    "print(headers)"
   ]
  },
  {
   "cell_type": "code",
   "execution_count": 4,
   "metadata": {},
   "outputs": [
    {
     "output_type": "execute_result",
     "data": {
      "text/plain": "[<h1>HTML Webpage</h1>, <h2>A Header</h2>, <h2>Another header</h2>]"
     },
     "metadata": {},
     "execution_count": 4
    }
   ],
   "source": [
    "headers = soup.find_all(['h1', 'h2'])\n",
    "headers"
   ]
  },
  {
   "cell_type": "code",
   "execution_count": 5,
   "metadata": {},
   "outputs": [
    {
     "output_type": "execute_result",
     "data": {
      "text/plain": "[<p id=\"paragraph-id\"><b>Some bold text</b></p>]"
     },
     "metadata": {},
     "execution_count": 5
    }
   ],
   "source": [
    "# attributes to pass into find/find_all methods\n",
    "paras = soup.find('body').find_all('p', attrs={'id': 'paragraph-id'})\n",
    "paras"
   ]
  },
  {
   "cell_type": "code",
   "execution_count": 6,
   "metadata": {
    "tags": []
   },
   "outputs": [
    {
     "output_type": "stream",
     "name": "stdout",
     "text": "[<p><i>Some italicized text</i></p>, <p id=\"paragraph-id\"><b>Some bold text</b></p>]\n[<h2>A Header</h2>, <h2>Another header</h2>]\n"
    }
   ],
   "source": [
    "# We can search for specific string in find/find_all\n",
    "some_string = soup.findAll('p', string=re.compile('Some'))\n",
    "print(some_string)\n",
    "\n",
    "headers = soup.findAll(['h1', 'h2'], string=re.compile('(H|h)eader'))\n",
    "print(headers)"
   ]
  },
  {
   "cell_type": "code",
   "execution_count": 7,
   "metadata": {
    "tags": []
   },
   "outputs": [
    {
     "output_type": "stream",
     "name": "stdout",
     "text": "<body>\n <div align=\"middle\">\n  <h1>\n   HTML Webpage\n  </h1>\n  <p>\n   Link to more interesting example:\n   <a href=\"https://keithgalli.github.io/web-scraping/webpage.html\">\n    keithgalli.github.io/web-scraping/webpage.html\n   </a>\n  </p>\n </div>\n <h2>\n  A Header\n </h2>\n <p>\n  <i>\n   Some italicized text\n  </i>\n </p>\n <h2>\n  Another header\n </h2>\n <p id=\"paragraph-id\">\n  <b>\n   Some bold text\n  </b>\n </p>\n</body>\n\n"
    }
   ],
   "source": [
    "print(soup.body.prettify())"
   ]
  },
  {
   "cell_type": "code",
   "execution_count": 8,
   "metadata": {
    "tags": []
   },
   "outputs": [
    {
     "output_type": "stream",
     "name": "stdout",
     "text": "[<b>Some bold text</b>]\n"
    }
   ],
   "source": [
    "### select (CSS)\n",
    "\n",
    "content = soup.select('p#paragraph-id b')\n",
    "print(content)"
   ]
  },
  {
   "cell_type": "code",
   "execution_count": 9,
   "metadata": {
    "tags": []
   },
   "outputs": [
    {
     "output_type": "stream",
     "name": "stdout",
     "text": "[<p><i>Some italicized text</i></p>, <p id=\"paragraph-id\"><b>Some bold text</b></p>]\n[<i>Some italicized text</i>]\n[]\n"
    }
   ],
   "source": [
    "# Nested calls\n",
    "\n",
    "paragraphs = soup.select('body > p')\n",
    "print(paragraphs)\n",
    "\n",
    "for para in paragraphs:\n",
    "    print(para.select('i'))"
   ]
  },
  {
   "cell_type": "code",
   "execution_count": 10,
   "metadata": {
    "tags": []
   },
   "outputs": [
    {
     "output_type": "stream",
     "name": "stdout",
     "text": "[<div align=\"middle\">\n<h1>HTML Webpage</h1>\n<p>Link to more interesting example: <a href=\"https://keithgalli.github.io/web-scraping/webpage.html\">keithgalli.github.io/web-scraping/webpage.html</a></p>\n</div>]\n"
    }
   ],
   "source": [
    "# Grab element with specific property\n",
    "\n",
    "print( soup.select('[align=\"middle\"]') )"
   ]
  },
  {
   "cell_type": "markdown",
   "metadata": {},
   "source": [
    "## Get different properties of the HTML"
   ]
  },
  {
   "cell_type": "code",
   "execution_count": 11,
   "metadata": {
    "tags": []
   },
   "outputs": [
    {
     "output_type": "stream",
     "name": "stdout",
     "text": "A Header\nNone\n\nHTML Webpage\nLink to more interesting example: keithgalli.github.io/web-scraping/webpage.html\n\n"
    }
   ],
   "source": [
    "print(soup.find('h2').string)\n",
    "print(soup.find('div').string)\n",
    "print(soup.find('div').get_text())"
   ]
  },
  {
   "cell_type": "code",
   "execution_count": 12,
   "metadata": {
    "tags": []
   },
   "outputs": [
    {
     "output_type": "stream",
     "name": "stdout",
     "text": "https://keithgalli.github.io/web-scraping/webpage.html\nparagraph-id\n"
    }
   ],
   "source": [
    "# Getting a specific property from an element\n",
    "\n",
    "print(soup.find('a')['href'])\n",
    "print(soup.select('p#paragraph-id')[0]['id'])"
   ]
  },
  {
   "cell_type": "code",
   "execution_count": 13,
   "metadata": {
    "tags": []
   },
   "outputs": [
    {
     "output_type": "stream",
     "name": "stdout",
     "text": "keithgalli.github.io/web-scraping/webpage.html\n"
    }
   ],
   "source": [
    "# Path syntax\n",
    "\n",
    "print(soup.body.p.a.get_text())"
   ]
  },
  {
   "cell_type": "code",
   "execution_count": 14,
   "metadata": {
    "tags": []
   },
   "outputs": [
    {
     "output_type": "stream",
     "name": "stdout",
     "text": "<body>\n <div align=\"middle\">\n  <h1>\n   HTML Webpage\n  </h1>\n  <p>\n   Link to more interesting example:\n   <a href=\"https://keithgalli.github.io/web-scraping/webpage.html\">\n    keithgalli.github.io/web-scraping/webpage.html\n   </a>\n  </p>\n </div>\n <h2>\n  A Header\n </h2>\n <p>\n  <i>\n   Some italicized text\n  </i>\n </p>\n <h2>\n  Another header\n </h2>\n <p id=\"paragraph-id\">\n  <b>\n   Some bold text\n  </b>\n </p>\n</body>\n\n"
    }
   ],
   "source": [
    "# Know the terms: parent, sibling, child\n",
    "print(soup.body.prettify())"
   ]
  },
  {
   "cell_type": "code",
   "execution_count": 15,
   "metadata": {
    "tags": []
   },
   "outputs": [
    {
     "output_type": "stream",
     "name": "stdout",
     "text": "[<h2>A Header</h2>, <p><i>Some italicized text</i></p>, <h2>Another header</h2>, <p id=\"paragraph-id\"><b>Some bold text</b></p>]\n"
    }
   ],
   "source": [
    "print(soup.body.find('div').find_next_siblings())"
   ]
  },
  {
   "cell_type": "markdown",
   "metadata": {},
   "source": [
    "# Next WebPage"
   ]
  },
  {
   "cell_type": "code",
   "execution_count": 16,
   "metadata": {},
   "outputs": [],
   "source": [
    "r = requests.get('https://keithgalli.github.io/web-scraping/webpage.html')\n",
    "webpage = bs(r.content)"
   ]
  },
  {
   "cell_type": "code",
   "execution_count": 17,
   "metadata": {
    "tags": []
   },
   "outputs": [
    {
     "output_type": "stream",
     "name": "stdout",
     "text": "<html>\n <head>\n  <title>\n   Keith Galli's Page\n  </title>\n  <style>\n   table {\n    border-collapse: collapse;\n  }\n  th {\n    padding:5px;\n  }\n  td {\n    border: 1px solid #ddd;\n    padding: 5px;\n  }\n  tr:nth-child(even) {\n    background-color: #f2f2f2;\n  }\n  th {\n    padding-top: 12px;\n    padding-bottom: 12px;\n    text-align: left;\n    background-color: #add8e6;\n    color: black;\n  }\n  .block {\n  width: 100px;\n  /*float: left;*/\n    display: inline-block;\n    zoom: 1;\n  }\n  .column {\n  float: left;\n  height: 200px;\n  /*width: 33.33%;*/\n  padding: 5px;\n  }\n\n  .row::after {\n    content: \"\";\n    clear: both;\n    display: table;\n  }\n  </style>\n </head>\n <body>\n  <h1>\n   Welcome to my page!\n  </h1>\n  <img src=\"./images/selfie1.jpg\" width=\"300px\"/>\n  <h2>\n   About me\n  </h2>\n  <p>\n   Hi, my name is Keith and I am a YouTuber who focuses on content related to programming, data science, and machine learning!\n  </p>\n  <p>\n   Here is a link to my channel:\n   <a href=\"https://www.youtube.com/kgmit\">\n    youtube.com/kgmit\n   </a>\n  </p>\n  <p>\n   I grew up in the great state of New Hampshire here in the USA. From an early age I always loved math. Around my senior year of high school, my brother first introduced me to programming. I found it a creative way to apply the same type of logical thinking skills that I enjoyed with math. This influenced me to study computer science in college and ultimately create a YouTube channel to share some things that I have learned along the way.\n  </p>\n  <h3>\n   Hobbies\n  </h3>\n  <p>\n   Believe it or not, I don't code 24/7. I love doing all sorts of active things. I like to play ice hockey &amp; table tennis as well as run, hike, skateboard, and snowboard. In addition to sports, I am a board game enthusiast. The two that I've been playing the most recently are\n   <i>\n    Settlers of Catan\n   </i>\n   and\n   <i>\n    Othello\n   </i>\n   .\n  </p>\n  <h3>\n   Fun Facts\n  </h3>\n  <ul class=\"fun-facts\">\n   <li>\n    Owned my dream car in high school\n    <a href=\"#footer\">\n     <sup>\n      1\n     </sup>\n    </a>\n   </li>\n   <li>\n    Middle name is Ronald\n   </li>\n   <li>\n    Never had been on a plane until college\n   </li>\n   <li>\n    Dunkin Donuts coffee is better than Starbucks\n   </li>\n   <li>\n    A favorite book series of mine is\n    <i>\n     Ender's Game\n    </i>\n   </li>\n   <li>\n    Current video game of choice is\n    <i>\n     Rocket League\n    </i>\n   </li>\n   <li>\n    The band that I've seen the most times live is the\n    <i>\n     Zac Brown Band\n    </i>\n   </li>\n  </ul>\n  <h2>\n   Social Media\n  </h2>\n  I encourage you to check out my content on all social media platforms\n  <br/>\n  <ul class=\"socials\">\n   <li class=\"social instagram\">\n    <b>\n     Instagram:\n    </b>\n    <a href=\"https://www.instagram.com/keithgalli/\">\n     https://www.instagram.com/keithgalli/\n    </a>\n   </li>\n   <li class=\"social twitter\">\n    <b>\n     Twitter:\n    </b>\n    <a href=\"https://twitter.com/keithgalli\">\n     https://twitter.com/keithgalli\n    </a>\n   </li>\n   <li class=\"social linkedin\">\n    <b>\n     LinkedIn:\n    </b>\n    <a href=\"https://www.linkedin.com/in/keithgalli/\">\n     https://www.linkedin.com/in/keithgalli/\n    </a>\n   </li>\n   <li class=\"social tiktok\">\n    <b>\n     TikTok:\n    </b>\n    <a href=\"https://www.tiktok.com/@keithgalli\">\n     https://www.tiktok.com/@keithgalli\n    </a>\n   </li>\n  </ul>\n  <h2>\n   Photos\n  </h2>\n  Here are a few photos from a trip to italy I took last year\n  <div class=\"row\">\n   <div class=\"column\">\n    <img alt=\"Lake Como\" src=\"images/italy/lake_como.jpg\" style=\"height:100%\"/>\n   </div>\n   <div class=\"column\">\n    <img alt=\"Pontevecchio, Florence\" src=\"images/italy/pontevecchio.jpg\" style=\"height:100%\"/>\n   </div>\n   <div class=\"column\">\n    <img alt=\"Riomaggiore, Cinque de Terre\" src=\"images/italy/riomaggiore.jpg\" style=\"height:100%\"/>\n   </div>\n  </div>\n  <div>\n  </div>\n  <h2>\n   Table\n  </h2>\n  My MIT hockey stats :)\n  <br/>\n  <table class=\"hockey-stats\">\n   <thead>\n    <tr>\n     <th class=\"season\" data-sort=\"\">\n      S\n     </th>\n     <th class=\"team\" data-sort=\"team\">\n      Team\n     </th>\n     <th class=\"league\" data-sort=\"league\">\n      League\n     </th>\n     <th class=\"regular gp\" data-sort=\"gp\">\n      GP\n     </th>\n     <th class=\"regular g\" data-sort=\"g\">\n      G\n     </th>\n     <th class=\"regular a\" data-sort=\"a\">\n      A\n     </th>\n     <th class=\"regular tp\" data-sort=\"tp\">\n      TP\n     </th>\n     <th class=\"regular pim\" data-sort=\"pim\">\n      PIM\n     </th>\n     <th class=\"regular pm\" data-sort=\"pm\">\n      +/-\n     </th>\n     <th class=\"separator\">\n     </th>\n     <th class=\"postseason\">\n      POST\n     </th>\n     <th class=\"postseason gp\" data-sort=\"playoffs-gp\">\n      GP\n     </th>\n     <th class=\"postseason g\" data-sort=\"playoffs-g\">\n      G\n     </th>\n     <th class=\"postseason a\" data-sort=\"playoffs-a\">\n      A\n     </th>\n     <th class=\"postseason tp\" data-sort=\"playoffs-tp\">\n      TP\n     </th>\n     <th class=\"postseason pim\" data-sort=\"playoffs-pim\">\n      PIM\n     </th>\n     <th class=\"postseason pm\" data-sort=\"playoffs-pm\">\n      +/-\n     </th>\n    </tr>\n   </thead>\n   <tbody>\n    <tr class=\"team-continent-NA\">\n     <td class=\"season sorted\">\n      2014-15\n     </td>\n     <td class=\"team\">\n      <i>\n       <img src=\"images/flag.png\"/>\n      </i>\n      <span class=\"txt-blue\">\n       <a href=\"https://www.eliteprospects.com/team/10263/mit-mass.-inst.-of-tech./2014-2015?tab=stats\">\n        MIT (Mass. Inst. of Tech.)\n       </a>\n      </span>\n     </td>\n     <td class=\"league\">\n      <a href=\"https://www.eliteprospects.com/league/acha-ii/stats/2014-2015\">\n       ACHA II\n      </a>\n     </td>\n     <td class=\"regular gp\">\n      17\n     </td>\n     <td class=\"regular g\">\n      3\n     </td>\n     <td class=\"regular a\">\n      9\n     </td>\n     <td class=\"regular tp\">\n      12\n     </td>\n     <td class=\"regular pim\">\n      20\n     </td>\n     <td class=\"regular pm\">\n     </td>\n     <td class=\"separator\">\n      |\n     </td>\n     <td class=\"postseason\">\n      <a href=\"https://www.eliteprospects.com/league/acha-ii/stats/2014-2015\">\n      </a>\n     </td>\n     <td class=\"postseason gp\">\n     </td>\n     <td class=\"postseason g\">\n     </td>\n     <td class=\"postseason a\">\n     </td>\n     <td class=\"postseason tp\">\n     </td>\n     <td class=\"postseason pim\">\n     </td>\n     <td class=\"postseason pm\">\n     </td>\n    </tr>\n    <tr class=\"team-continent-NA\">\n     <td class=\"season sorted\">\n      2015-16\n     </td>\n     <td class=\"team\">\n      <i>\n       <img src=\"images/flag.png\"/>\n      </i>\n      <span class=\"txt-blue\">\n       <a href=\"https://www.eliteprospects.com/team/10263/mit-mass.-inst.-of-tech./2015-2016?tab=stats\">\n        MIT (Mass. Inst. of Tech.)\n       </a>\n      </span>\n     </td>\n     <td class=\"league\">\n      <a href=\"https://www.eliteprospects.com/league/acha-ii/stats/2015-2016\">\n       ACHA II\n      </a>\n     </td>\n     <td class=\"regular gp\">\n      9\n     </td>\n     <td class=\"regular g\">\n      1\n     </td>\n     <td class=\"regular a\">\n      1\n     </td>\n     <td class=\"regular tp\">\n      2\n     </td>\n     <td class=\"regular pim\">\n      2\n     </td>\n     <td class=\"regular pm\">\n     </td>\n     <td class=\"separator\">\n      |\n     </td>\n     <td class=\"postseason\">\n      <a href=\"https://www.eliteprospects.com/league/acha-ii/stats/2015-2016\">\n      </a>\n     </td>\n     <td class=\"postseason gp\">\n     </td>\n     <td class=\"postseason g\">\n     </td>\n     <td class=\"postseason a\">\n     </td>\n     <td class=\"postseason tp\">\n     </td>\n     <td class=\"postseason pim\">\n     </td>\n     <td class=\"postseason pm\">\n     </td>\n    </tr>\n    <tr class=\"team-continent-NA\">\n     <td class=\"season sorted\">\n      2016-17\n     </td>\n     <td class=\"team\">\n      <i>\n       <img src=\"images/flag.png\"/>\n      </i>\n      <span class=\"txt-blue\">\n       <a href=\"https://www.eliteprospects.com/team/10263/mit-mass.-inst.-of-tech./2016-2017?tab=stats\">\n        MIT (Mass. Inst. of Tech.)\n       </a>\n      </span>\n     </td>\n     <td class=\"league\">\n      <a href=\"https://www.eliteprospects.com/league/acha-ii/stats/2016-2017\">\n       ACHA II\n      </a>\n     </td>\n     <td class=\"regular gp\">\n      12\n     </td>\n     <td class=\"regular g\">\n      5\n     </td>\n     <td class=\"regular a\">\n      5\n     </td>\n     <td class=\"regular tp\">\n      10\n     </td>\n     <td class=\"regular pim\">\n      8\n     </td>\n     <td class=\"regular pm\">\n      0\n     </td>\n     <td class=\"separator\">\n      |\n     </td>\n     <td class=\"postseason\">\n     </td>\n     <td class=\"postseason gp\">\n     </td>\n     <td class=\"postseason g\">\n     </td>\n     <td class=\"postseason a\">\n     </td>\n     <td class=\"postseason tp\">\n     </td>\n     <td class=\"postseason pim\">\n     </td>\n     <td class=\"postseason pm\">\n     </td>\n    </tr>\n    <tr class=\"team-continent-EU\">\n     <td class=\"season sorted\">\n      2017-18\n     </td>\n     <td class=\"team\">\n      Did not play\n     </td>\n     <td class=\"league\">\n      <a href=\"https://www.eliteprospects.com/stats\">\n      </a>\n     </td>\n     <td class=\"regular gp\">\n     </td>\n     <td class=\"regular g\">\n     </td>\n     <td class=\"regular a\">\n     </td>\n     <td class=\"regular tp\">\n     </td>\n     <td class=\"regular pim\">\n     </td>\n     <td class=\"regular pm\">\n     </td>\n     <td class=\"separator\">\n      |\n     </td>\n     <td class=\"postseason\">\n      <a href=\"https://www.eliteprospects.com/stats\">\n      </a>\n     </td>\n     <td class=\"postseason gp\">\n     </td>\n     <td class=\"postseason g\">\n     </td>\n     <td class=\"postseason a\">\n     </td>\n     <td class=\"postseason tp\">\n     </td>\n     <td class=\"postseason pim\">\n     </td>\n     <td class=\"postseason pm\">\n     </td>\n    </tr>\n    <tr class=\"team-continent-NA\">\n     <td class=\"season sorted\">\n      2018-19\n     </td>\n     <td class=\"team\">\n      <i>\n       <img src=\"images/flag.png\"/>\n      </i>\n      <span class=\"txt-blue\">\n       <a href=\"https://www.eliteprospects.com/team/10263/mit-mass.-inst.-of-tech./2018-2019?tab=stats\">\n        MIT (Mass. Inst. of Tech.)\n       </a>\n      </span>\n     </td>\n     <td class=\"league\">\n      <a href=\"https://www.eliteprospects.com/league/acha-iii/stats/2018-2019\">\n       ACHA III\n      </a>\n     </td>\n     <td class=\"regular gp\">\n      8\n     </td>\n     <td class=\"regular g\">\n      5\n     </td>\n     <td class=\"regular a\">\n      10\n     </td>\n     <td class=\"regular tp\">\n      15\n     </td>\n     <td class=\"regular pim\">\n      8\n     </td>\n     <td class=\"regular pm\">\n     </td>\n     <td class=\"separator\">\n      |\n     </td>\n     <td class=\"postseason\">\n      <a href=\"https://www.eliteprospects.com/league/acha-iii/stats/2018-2019\">\n      </a>\n     </td>\n     <td class=\"postseason gp\">\n     </td>\n     <td class=\"postseason g\">\n     </td>\n     <td class=\"postseason a\">\n     </td>\n     <td class=\"postseason tp\">\n     </td>\n     <td class=\"postseason pim\">\n     </td>\n     <td class=\"postseason pm\">\n     </td>\n    </tr>\n   </tbody>\n  </table>\n  <h2>\n   Mystery Message Challenge!\n  </h2>\n  <p>\n   If you scrape the links below grabbing the &lt;p&gt; tag with id=\"secret-word\", you'll discover a secret message :)\n  </p>\n  <div width=\"50%\">\n   <div align=\"left\" class=\"block\">\n    <ul>\n     <li>\n      <a href=\"challenge/file_1.html\">\n       File 1\n      </a>\n     </li>\n     <li>\n      <a href=\"challenge/file_2.html\">\n       File 2\n      </a>\n     </li>\n     <li>\n      <a href=\"challenge/file_3.html\">\n       File 3\n      </a>\n     </li>\n     <li>\n      <a href=\"challenge/file_4.html\">\n       File 4\n      </a>\n     </li>\n     <li>\n      <a href=\"challenge/file_5.html\">\n       File 5\n      </a>\n     </li>\n    </ul>\n   </div>\n   <div align=\"center\" class=\"block\">\n    <ul>\n     <li>\n      <a href=\"challenge/file_6.html\">\n       File 6\n      </a>\n     </li>\n     <li>\n      <a href=\"challenge/file_7.html\">\n       File 7\n      </a>\n     </li>\n     <li>\n      <a href=\"challenge/file_8.html\">\n       File 8\n      </a>\n     </li>\n     <li>\n      <a href=\"challenge/file_9.html\">\n       File 9\n      </a>\n     </li>\n     <li>\n      <a href=\"challenge/file_10.html\">\n       File 10\n      </a>\n     </li>\n    </ul>\n   </div>\n  </div>\n  <h2>\n   Footnotes\n  </h2>\n  <p id=\"footer\">\n   1. This was actually a minivan that I named Debora. Maybe not my dream car, but I loved her nonetheless.\n  </p>\n </body>\n</html>\n"
    }
   ],
   "source": [
    "print(webpage.prettify())"
   ]
  },
  {
   "cell_type": "markdown",
   "metadata": {},
   "source": [
    "## Grab all of the social links from the web page"
   ]
  },
  {
   "cell_type": "code",
   "execution_count": 18,
   "metadata": {
    "tags": []
   },
   "outputs": [
    {
     "output_type": "execute_result",
     "data": {
      "text/plain": "['https://www.instagram.com/keithgalli/',\n 'https://twitter.com/keithgalli',\n 'https://www.linkedin.com/in/keithgalli/',\n 'https://www.tiktok.com/@keithgalli']"
     },
     "metadata": {},
     "execution_count": 18
    }
   ],
   "source": [
    "a_links = webpage.body.select('li.social a')\n",
    "links = [a_link['href'] for a_link in a_links]\n",
    "links"
   ]
  },
  {
   "cell_type": "code",
   "execution_count": 19,
   "metadata": {
    "tags": []
   },
   "outputs": [
    {
     "output_type": "execute_result",
     "data": {
      "text/plain": "['https://www.instagram.com/keithgalli/',\n 'https://twitter.com/keithgalli',\n 'https://www.linkedin.com/in/keithgalli/',\n 'https://www.tiktok.com/@keithgalli']"
     },
     "metadata": {},
     "execution_count": 19
    }
   ],
   "source": [
    "ul_socials = webpage.find('ul', attrs={'class': 'socials'})\n",
    "links = [a_link['href'] for a_link in ul_socials.find_all('a')]\n",
    "links"
   ]
  },
  {
   "cell_type": "markdown",
   "metadata": {},
   "source": [
    "## Grab the table"
   ]
  },
  {
   "cell_type": "code",
   "execution_count": 24,
   "metadata": {},
   "outputs": [
    {
     "output_type": "execute_result",
     "data": {
      "text/plain": "['S',\n 'Team',\n 'League',\n 'GP',\n 'G',\n 'A',\n 'TP',\n 'PIM',\n '+/-',\n '\\xa0',\n 'POST',\n 'GP',\n 'G',\n 'A',\n 'TP',\n 'PIM',\n '+/-']"
     },
     "metadata": {},
     "execution_count": 24
    }
   ],
   "source": [
    "my_table = []\n",
    "thead = webpage.thead.select('th')\n",
    "headers = [th.get_text() for th in thead]\n",
    "my_table.append(headers)\n",
    "headers"
   ]
  },
  {
   "cell_type": "code",
   "execution_count": 25,
   "metadata": {
    "tags": []
   },
   "outputs": [
    {
     "output_type": "stream",
     "name": "stdout",
     "text": "['S', 'Team', 'League', 'GP', 'G', 'A', 'TP', 'PIM', '+/-', '\\xa0', 'POST', 'GP', 'G', 'A', 'TP', 'PIM', '+/-']\n['2014-15', 'MIT (Mass. Inst. of Tech.)', 'ACHA II', '17', '3', '9', '12', '20', '', '|', '', '', '', '', '', '', '']\n['2015-16', 'MIT (Mass. Inst. of Tech.)', 'ACHA II', '9', '1', '1', '2', '2', '', '|', '', '', '', '', '', '', '']\n['2016-17', 'MIT (Mass. Inst. of Tech.)', 'ACHA II', '12', '5', '5', '10', '8', '0', '|', '', '', '', '', '', '', '']\n['2017-18', 'Did not play', '', '', '', '', '', '', '', '|', '', '', '', '', '', '', '']\n['2018-19', 'MIT (Mass. Inst. of Tech.)', 'ACHA III', '8', '5', '10', '15', '8', '', '|', '', '', '', '', '', '', '']\n"
    }
   ],
   "source": [
    "tbody = webpage.tbody.select('tr')\n",
    "# for tr in tbody:\n",
    "for table_row in tbody:\n",
    "    row = [item.get_text().strip() for item in table_row.select('td')]\n",
    "    my_table.append(row)\n",
    "\n",
    "for row in my_table:\n",
    "    print(row)\n"
   ]
  },
  {
   "cell_type": "markdown",
   "metadata": {},
   "source": [
    "## Save as csv"
   ]
  },
  {
   "cell_type": "code",
   "execution_count": 26,
   "metadata": {},
   "outputs": [
    {
     "output_type": "execute_result",
     "data": {
      "text/plain": "0        S                        Team    League  GP  G   A  TP PIM +/-     \\\n1  2014-15  MIT (Mass. Inst. of Tech.)   ACHA II  17  3   9  12  20      |   \n2  2015-16  MIT (Mass. Inst. of Tech.)   ACHA II   9  1   1   2   2      |   \n3  2016-17  MIT (Mass. Inst. of Tech.)   ACHA II  12  5   5  10   8   0  |   \n4  2017-18                Did not play                                   |   \n5  2018-19  MIT (Mass. Inst. of Tech.)  ACHA III   8  5  10  15   8      |   \n\n0 POST GP G A TP PIM +/-  \n1                         \n2                         \n3                         \n4                         \n5                         ",
      "text/html": "<div>\n<style scoped>\n    .dataframe tbody tr th:only-of-type {\n        vertical-align: middle;\n    }\n\n    .dataframe tbody tr th {\n        vertical-align: top;\n    }\n\n    .dataframe thead th {\n        text-align: right;\n    }\n</style>\n<table border=\"1\" class=\"dataframe\">\n  <thead>\n    <tr style=\"text-align: right;\">\n      <th></th>\n      <th>S</th>\n      <th>Team</th>\n      <th>League</th>\n      <th>GP</th>\n      <th>G</th>\n      <th>A</th>\n      <th>TP</th>\n      <th>PIM</th>\n      <th>+/-</th>\n      <th></th>\n      <th>POST</th>\n      <th>GP</th>\n      <th>G</th>\n      <th>A</th>\n      <th>TP</th>\n      <th>PIM</th>\n      <th>+/-</th>\n    </tr>\n  </thead>\n  <tbody>\n    <tr>\n      <th>1</th>\n      <td>2014-15</td>\n      <td>MIT (Mass. Inst. of Tech.)</td>\n      <td>ACHA II</td>\n      <td>17</td>\n      <td>3</td>\n      <td>9</td>\n      <td>12</td>\n      <td>20</td>\n      <td></td>\n      <td>|</td>\n      <td></td>\n      <td></td>\n      <td></td>\n      <td></td>\n      <td></td>\n      <td></td>\n      <td></td>\n    </tr>\n    <tr>\n      <th>2</th>\n      <td>2015-16</td>\n      <td>MIT (Mass. Inst. of Tech.)</td>\n      <td>ACHA II</td>\n      <td>9</td>\n      <td>1</td>\n      <td>1</td>\n      <td>2</td>\n      <td>2</td>\n      <td></td>\n      <td>|</td>\n      <td></td>\n      <td></td>\n      <td></td>\n      <td></td>\n      <td></td>\n      <td></td>\n      <td></td>\n    </tr>\n    <tr>\n      <th>3</th>\n      <td>2016-17</td>\n      <td>MIT (Mass. Inst. of Tech.)</td>\n      <td>ACHA II</td>\n      <td>12</td>\n      <td>5</td>\n      <td>5</td>\n      <td>10</td>\n      <td>8</td>\n      <td>0</td>\n      <td>|</td>\n      <td></td>\n      <td></td>\n      <td></td>\n      <td></td>\n      <td></td>\n      <td></td>\n      <td></td>\n    </tr>\n    <tr>\n      <th>4</th>\n      <td>2017-18</td>\n      <td>Did not play</td>\n      <td></td>\n      <td></td>\n      <td></td>\n      <td></td>\n      <td></td>\n      <td></td>\n      <td></td>\n      <td>|</td>\n      <td></td>\n      <td></td>\n      <td></td>\n      <td></td>\n      <td></td>\n      <td></td>\n      <td></td>\n    </tr>\n    <tr>\n      <th>5</th>\n      <td>2018-19</td>\n      <td>MIT (Mass. Inst. of Tech.)</td>\n      <td>ACHA III</td>\n      <td>8</td>\n      <td>5</td>\n      <td>10</td>\n      <td>15</td>\n      <td>8</td>\n      <td></td>\n      <td>|</td>\n      <td></td>\n      <td></td>\n      <td></td>\n      <td></td>\n      <td></td>\n      <td></td>\n      <td></td>\n    </tr>\n  </tbody>\n</table>\n</div>"
     },
     "metadata": {},
     "execution_count": 26
    }
   ],
   "source": [
    "df = pd.DataFrame(my_table)\n",
    "df.columns = df.iloc[0]\n",
    "df = df.iloc[1:]\n",
    "df"
   ]
  },
  {
   "cell_type": "code",
   "execution_count": 27,
   "metadata": {},
   "outputs": [],
   "source": [
    "df.to_csv('MIT_hockey_stats.csv', index=False)"
   ]
  },
  {
   "cell_type": "markdown",
   "metadata": {},
   "source": [
    "## Grab all fun facts with 'is'"
   ]
  },
  {
   "cell_type": "code",
   "execution_count": 54,
   "metadata": {
    "tags": []
   },
   "outputs": [
    {
     "output_type": "stream",
     "name": "stdout",
     "text": "['Middle name is Ronald', 'Dunkin Donuts coffee is better than Starbucks', \"A favorite book series of mine is Ender's Game\", 'Current video game of choice is Rocket League', \"The band that I've seen the most times live is the Zac Brown Band\"]\n['Middle name is Ronald', 'Dunkin Donuts coffee is better than Starbucks', \"A favorite book series of mine is Ender's Game\", 'Current video game of choice is Rocket League', \"The band that I've seen the most times live is the Zac Brown Band\"]\n"
    }
   ],
   "source": [
    "fun_facts_list = webpage.select('ul.fun-facts li')\n",
    "\n",
    "fun_facts1 = [fact.get_text() for fact in fun_facts_list if fact.find(string=re.compile('is'))]\n",
    "print(fun_facts1)\n",
    "fun_facts2 = [li.get_text() for li in fun_facts_list if 'is' in str(li.get_text())]\n",
    "print(fun_facts2)"
   ]
  },
  {
   "cell_type": "markdown",
   "metadata": {},
   "source": [
    "## Getting the Secret Message"
   ]
  },
  {
   "cell_type": "code",
   "execution_count": 83,
   "metadata": {
    "tags": []
   },
   "outputs": [
    {
     "output_type": "stream",
     "name": "stdout",
     "text": "Make sure to smash that like button and subscribe !!!\n"
    }
   ],
   "source": [
    "url = 'https://keithgalli.github.io/web-scraping/'\n",
    "links_list = webpage.select('li  a')[5:]\n",
    "links = [url + link['href'] for link in links_list]\n",
    "\n",
    "secret_message = []\n",
    "for link in links:\n",
    "    file1 = bs(requests.get(link).content)\n",
    "    secret_message += [file1.select('p#secret-word')[0].get_text()]\n",
    "print(' '.join(secret_message))"
   ]
  },
  {
   "cell_type": "code",
   "execution_count": null,
   "metadata": {},
   "outputs": [],
   "source": []
  }
 ]
}
