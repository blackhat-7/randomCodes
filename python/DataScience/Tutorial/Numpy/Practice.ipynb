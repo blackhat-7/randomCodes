{
 "metadata": {
  "language_info": {
   "codemirror_mode": {
    "name": "ipython",
    "version": 3
   },
   "file_extension": ".py",
   "mimetype": "text/x-python",
   "name": "python",
   "nbconvert_exporter": "python",
   "pygments_lexer": "ipython3",
   "version": "3.8.2-final"
  },
  "orig_nbformat": 2,
  "kernelspec": {
   "name": "python_defaultSpec_1598376369831",
   "display_name": "Python 3.8.2 64-bit"
  }
 },
 "nbformat": 4,
 "nbformat_minor": 2,
 "cells": [
  {
   "cell_type": "code",
   "execution_count": 22,
   "metadata": {},
   "outputs": [],
   "source": [
    "# Import Libraries\n",
    "import numpy as np\n",
    "from random import randint"
   ]
  },
  {
   "cell_type": "code",
   "execution_count": 23,
   "metadata": {
    "tags": []
   },
   "outputs": [
    {
     "output_type": "execute_result",
     "data": {
      "text/plain": "array([1, 2, 3, 5, 6], dtype=int32)"
     },
     "metadata": {},
     "execution_count": 23
    }
   ],
   "source": [
    "# 1D array\n",
    "array_1d = np.array([1,2,3,5,6], dtype='int32')\n",
    "array_1d"
   ]
  },
  {
   "cell_type": "code",
   "execution_count": 34,
   "metadata": {},
   "outputs": [
    {
     "output_type": "execute_result",
     "data": {
      "text/plain": "array([[ 6., 10.,  7.],\n       [ 5.,  8.,  3.],\n       [ 7.,  0.,  5.],\n       [ 9.,  9.,  4.],\n       [ 2.,  6.,  5.]], dtype=float32)"
     },
     "metadata": {},
     "execution_count": 34
    }
   ],
   "source": [
    "# 2D array\n",
    "m = 5\n",
    "n = 3\n",
    "array_2d = np.array([[randint(0, 10) for j in range(n)] for i in range(m)], dtype='float32')\n",
    "array_2d"
   ]
  },
  {
   "cell_type": "code",
   "execution_count": 35,
   "metadata": {
    "tags": []
   },
   "outputs": [
    {
     "output_type": "stream",
     "name": "stdout",
     "text": "1\n2\n"
    }
   ],
   "source": [
    "# Numebr of dimentions\n",
    "print(array_1d.ndim)\n",
    "print(array_2d.ndim)\n"
   ]
  },
  {
   "cell_type": "code",
   "execution_count": 36,
   "metadata": {
    "tags": []
   },
   "outputs": [
    {
     "output_type": "stream",
     "name": "stdout",
     "text": "(5,)\n(5, 3)\n"
    }
   ],
   "source": [
    "# Shape of array\n",
    "print(array_1d.shape)\n",
    "print(array_2d.shape)"
   ]
  },
  {
   "cell_type": "code",
   "execution_count": 37,
   "metadata": {
    "tags": []
   },
   "outputs": [
    {
     "output_type": "stream",
     "name": "stdout",
     "text": "int32\nfloat32\n"
    }
   ],
   "source": [
    "# Get type\n",
    "print(array_1d.dtype)\n",
    "print(array_2d.dtype)"
   ]
  },
  {
   "cell_type": "code",
   "execution_count": 39,
   "metadata": {
    "tags": []
   },
   "outputs": [
    {
     "output_type": "stream",
     "name": "stdout",
     "text": "4\n4\n"
    }
   ],
   "source": [
    "# Number of bytes per item\n",
    "print(array_1d.itemsize)\n",
    "print(array_2d.itemsize)"
   ]
  },
  {
   "cell_type": "code",
   "execution_count": 41,
   "metadata": {
    "tags": []
   },
   "outputs": [
    {
     "output_type": "stream",
     "name": "stdout",
     "text": "5\n15\n"
    }
   ],
   "source": [
    "# Size of array\n",
    "print(array_1d.size)\n",
    "print(array_2d.size)"
   ]
  },
  {
   "cell_type": "code",
   "execution_count": 43,
   "metadata": {
    "tags": []
   },
   "outputs": [
    {
     "output_type": "stream",
     "name": "stdout",
     "text": "20\n60\n"
    }
   ],
   "source": [
    "# Number of bytes utilized nbytes = size * itemsize\n",
    "print(array_1d.nbytes)\n",
    "print(array_2d.nbytes)"
   ]
  },
  {
   "cell_type": "code",
   "execution_count": 45,
   "metadata": {
    "tags": []
   },
   "outputs": [
    {
     "output_type": "stream",
     "name": "stdout",
     "text": "3.0\n"
    }
   ],
   "source": [
    "# Get spcific element [r, c]\n",
    "print(array_2d[1, 2])"
   ]
  },
  {
   "cell_type": "code",
   "execution_count": 47,
   "metadata": {
    "tags": []
   },
   "outputs": [
    {
     "output_type": "stream",
     "name": "stdout",
     "text": "[5. 8. 3.]\n"
    }
   ],
   "source": [
    "# get specific row\n",
    "print(array_2d[1, :])"
   ]
  },
  {
   "cell_type": "code",
   "execution_count": 48,
   "metadata": {
    "tags": []
   },
   "outputs": [
    {
     "output_type": "stream",
     "name": "stdout",
     "text": "[7. 3. 5. 4. 5.]\n"
    }
   ],
   "source": [
    "# get specific column\n",
    "print(array_2d[:, 2])"
   ]
  },
  {
   "cell_type": "code",
   "execution_count": 49,
   "metadata": {
    "tags": []
   },
   "outputs": [
    {
     "output_type": "stream",
     "name": "stdout",
     "text": "[[ 6. 10.  7.]\n [ 5.  8.  3.]\n [ 7.  0.  5.]\n [ 9.  9.  4.]\n [ 2.  6.  5.]]\n"
    }
   ],
   "source": [
    "print(array_2d)"
   ]
  },
  {
   "cell_type": "code",
   "execution_count": 51,
   "metadata": {
    "tags": []
   },
   "outputs": [
    {
     "output_type": "stream",
     "name": "stdout",
     "text": "[10.  0.  6.]\n"
    }
   ],
   "source": [
    "# Every alternate in 2nd column\n",
    "print(array_2d[::2, 1])"
   ]
  },
  {
   "cell_type": "code",
   "execution_count": 76,
   "metadata": {
    "tags": []
   },
   "outputs": [
    {
     "output_type": "stream",
     "name": "stdout",
     "text": "[[0]\n [0]\n [0]]\n\n[[[1.]\n  [1.]]]\n\n['za21eds' 'za21eds' 'za21eds']\n[[100 101 101]\n [100 102 101]]\n[[0.65950085 0.34783584 0.80162728]\n [0.92275735 0.55883021 0.6156244 ]\n [0.66011153 0.95865373 0.29130287]\n [0.5931845  0.39969013 0.73339728]\n [0.06159848 0.89164154 0.03397519]]\n[[1 2 3 5 6]\n [1 2 3 5 6]\n [1 2 3 5 6]]\n"
    }
   ],
   "source": [
    "print(np.zeros((3,1), dtype='int8'), end='\\n\\n')\n",
    "print(np.ones((1,2,1)), end='\\n\\n')\n",
    "print(np.full((3,), 'za21eds'))\n",
    "print(np.random.randint(100, 105, size=(2,3)))\n",
    "print(np.random.random_sample(array_2d.shape))\n",
    "np.identity(3)\n",
    "print(np.repeat([array_1d], 3, axis=0))"
   ]
  },
  {
   "cell_type": "code",
   "execution_count": null,
   "metadata": {},
   "outputs": [],
   "source": []
  }
 ]
}